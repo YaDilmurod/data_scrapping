{
 "cells": [
  {
   "cell_type": "code",
   "execution_count": 102,
   "metadata": {},
   "outputs": [],
   "source": [
    "from sklearn.preprocessing import MinMaxScaler\n",
    "from sklearn.model_selection import train_test_split\n",
    "import pandas as pd\n",
    "\n",
    "df = pd.read_excel('../../../Data/Cleaned_Combined.xlsx')\n",
    "\n",
    "columns_to_scale = ['num_of_rooms', 'area']\n",
    "scaler = MinMaxScaler()\n",
    "X_scaled = scaler.fit_transform(df[columns_to_scale])\n",
    "X_scaled_df = pd.DataFrame(X_scaled, columns=columns_to_scale)\n",
    "df = pd.concat([X_scaled_df, df.drop(columns_to_scale, axis=1)], axis=1)\n",
    "\n",
    "X = df.drop('price', axis=1)\n",
    "y = df['price']\n",
    "\n",
    "X_train, X_test, y_train, y_test = train_test_split(X, y, test_size=0.2, random_state=42)"
   ]
  },
  {
   "cell_type": "code",
   "execution_count": 103,
   "metadata": {},
   "outputs": [
    {
     "name": "stdout",
     "output_type": "stream",
     "text": [
      "Model: Linear Regression\n",
      "Best Parameters: {}\n",
      "Mean Absolute Error: 533667266.85258967\n",
      "Root Mean Squared Error: 717743223.7766279\n",
      "R-squared: 0.3509294363557114\n",
      "------------------------------\n"
     ]
    }
   ],
   "source": [
    "from sklearn.linear_model import LinearRegression\n",
    "from sklearn.ensemble import GradientBoostingRegressor\n",
    "from sklearn.metrics import mean_absolute_error, mean_squared_error, r2_score\n",
    "from sklearn.pipeline import make_pipeline\n",
    "from sklearn.preprocessing import RobustScaler\n",
    "from sklearn.model_selection import GridSearchCV\n",
    "\n",
    "all_models = {\n",
    "    \"Linear Regression\": {\n",
    "        \"model\": LinearRegression(),\n",
    "        \"params\": {}\n",
    "    },\n",
    "    \"Gradient Boosting\": {\n",
    "        \"model\": GradientBoostingRegressor(),\n",
    "        \"params\": {\n",
    "            'learning_rate': [0.1, 0.05, 0.01],\n",
    "            'n_estimators': [100, 200, 300],\n",
    "            'max_depth': [3, 4, 5]\n",
    "        }\n",
    "    },\n",
    "}\n",
    "\n",
    "# Grid search and evaluation for each model\n",
    "for name, model_data in all_models.items():\n",
    "    model = model_data[\"model\"]\n",
    "    params = model_data[\"params\"]\n",
    "    \n",
    "    # Apply scaling if needed\n",
    "    if \"Regressor\" in name:\n",
    "        model = make_pipeline(RobustScaler(), model)\n",
    "    \n",
    "    grid_search = GridSearchCV(model, params, cv=5, scoring='neg_mean_absolute_error')\n",
    "    grid_search.fit(X_train, y_train)\n",
    "    \n",
    "    best_model = grid_search.best_estimator_\n",
    "    y_pred = best_model.predict(X_test)\n",
    "    \n",
    "    mae = mean_absolute_error(y_test, y_pred)\n",
    "    rmse = mean_squared_error(y_test, y_pred, squared=False)\n",
    "    r2 = r2_score(y_test, y_pred)\n",
    "    \n",
    "    print(f\"Model: {name}\")\n",
    "    print(\"Best Parameters:\", grid_search.best_params_)\n",
    "    print(f\"Mean Absolute Error: {mae}\")\n",
    "    print(f\"Root Mean Squared Error: {rmse}\")\n",
    "    print(f\"R-squared: {r2}\")\n",
    "    print(\"-\" * 30)"
   ]
  }
 ],
 "metadata": {
  "kernelspec": {
   "display_name": "Python 3",
   "language": "python",
   "name": "python3"
  },
  "language_info": {
   "codemirror_mode": {
    "name": "ipython",
    "version": 3
   },
   "file_extension": ".py",
   "mimetype": "text/x-python",
   "name": "python",
   "nbconvert_exporter": "python",
   "pygments_lexer": "ipython3",
   "version": "3.11.5"
  }
 },
 "nbformat": 4,
 "nbformat_minor": 2
}
