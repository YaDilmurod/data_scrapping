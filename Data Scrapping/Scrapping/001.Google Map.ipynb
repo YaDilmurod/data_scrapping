{
 "cells": [
  {
   "cell_type": "code",
   "execution_count": 12,
   "metadata": {},
   "outputs": [
    {
     "name": "stdout",
     "output_type": "stream",
     "text": [
      "https://www.google.com/maps/search/%D1%88%D0%BA%D0%BE%D0%BB%D0%B0+%D0%B2+%D1%82%D0%B0%D1%88%D0%BA%D0%B5%D0%BD%D1%82%D0%B5/@41.3113397,69.251939,15z/data=!3m1!4b1?entry=ttu\n",
      "https://www.google.com/maps/search/%D0%BF%D0%B0%D1%80%D0%BA%D0%B8+/@41.3113172,69.2210391,13z/data=!3m1!4b1?entry=ttu\n",
      "https://www.google.com/maps/search/korzinka/@41.3112584,69.221039,13z/data=!3m1!4b1?entry=ttu\n",
      "https://www.google.com/maps/search/havas/@41.3112438,69.221039,13z/data=!3m1!4b1?entry=ttu\n",
      "https://www.google.com/maps/search/baraka/@41.3112291,69.221039,13z/data=!3m1!4b1?entry=ttu\n",
      "https://www.google.com/maps/search/%D0%BF%D0%B0%D1%80%D0%BA/@41.3301609,69.2584443,12z/data=!3m1!4b1?entry=ttu\n",
      "https://www.google.com/maps/search/%D0%B1%D0%B0%D0%B7%D0%B0%D1%80/@41.3301021,69.2584441,12z/data=!3m1!4b1?entry=ttu\n",
      "https://www.google.com/maps/search/bolalar+bogchasi/@41.2960354,69.1294528,10.25z?entry=ttu\n",
      "https://www.google.com/maps/search/%D1%81%D1%82%D0%B0%D0%BD%D1%86%D0%B8%D1%8F+%D0%BC%D0%B5%D1%82%D1%80%D0%BE/@41.2935533,69.2620823,13.5z?entry=ttu\n"
     ]
    }
   ],
   "source": [
    "from selenium import webdriver\n",
    "from bs4 import BeautifulSoup\n",
    "from selenium.webdriver.common.by import By\n",
    "from selenium.webdriver import ActionChains\n",
    "from selenium.webdriver.common.actions.wheel_input import ScrollOrigin\n",
    "import re\n",
    "import time\n",
    "import pandas as pd\n",
    "\n",
    "filename = \"data\"\n",
    "search_queries = [\n",
    "    \"https://www.google.com/maps/search/%D1%88%D0%BA%D0%BE%D0%BB%D0%B0+%D0%B2+%D1%82%D0%B0%D1%88%D0%BA%D0%B5%D0%BD%D1%82%D0%B5/@41.3113397,69.251939,15z/data=!3m1!4b1?entry=ttu\",\n",
    "    \"https://www.google.com/maps/search/%D0%BF%D0%B0%D1%80%D0%BA%D0%B8+/@41.3113172,69.2210391,13z/data=!3m1!4b1?entry=ttu\",\n",
    "    \"https://www.google.com/maps/search/korzinka/@41.3112584,69.221039,13z/data=!3m1!4b1?entry=ttu\",\n",
    "    \"https://www.google.com/maps/search/havas/@41.3112438,69.221039,13z/data=!3m1!4b1?entry=ttu\",\n",
    "    \"https://www.google.com/maps/search/baraka/@41.3112291,69.221039,13z/data=!3m1!4b1?entry=ttu\",\n",
    "    \"https://www.google.com/maps/search/%D0%BF%D0%B0%D1%80%D0%BA/@41.3301609,69.2584443,12z/data=!3m1!4b1?entry=ttu\",\n",
    "    \"https://www.google.com/maps/search/%D0%B1%D0%B0%D0%B7%D0%B0%D1%80/@41.3301021,69.2584441,12z/data=!3m1!4b1?entry=ttu\",\n",
    "    \"https://www.google.com/maps/search/bolalar+bogchasi/@41.2960354,69.1294528,10.25z?entry=ttu\",\n",
    "    \"https://www.google.com/maps/search/%D1%81%D1%82%D0%B0%D0%BD%D1%86%D0%B8%D1%8F+%D0%BC%D0%B5%D1%82%D1%80%D0%BE/@41.2935533,69.2620823,13.5z?entry=ttu\"\n",
    "]\n",
    "\n",
    "record = []\n",
    "e = []\n",
    "le = 0\n",
    "\n",
    "def google_map_extractor(query):\n",
    "    link = f\"{query}&hl=ru\"\n",
    "    browser = webdriver.Chrome()\n",
    "    browser.get(link)\n",
    "    time.sleep(5)\n",
    "    action = ActionChains(browser)\n",
    "    a = browser.find_elements(By.CLASS_NAME, \"hfpxzc\")\n",
    "    \n",
    "    while len(a) < 1000:\n",
    "        var = len(a)\n",
    "        scroll_origin = ScrollOrigin.from_element(a[0])\n",
    "        action.scroll_from_origin(scroll_origin, 0, 20000).perform()\n",
    "        time.sleep(3)\n",
    "        a = browser.find_elements(By.CLASS_NAME, \"hfpxzc\")\n",
    "\n",
    "        if len(a) == var:\n",
    "            le+=1\n",
    "            if le > 2:\n",
    "                break\n",
    "        else:\n",
    "            le = 0    \n",
    "\n",
    "\n",
    "    browser.implicitly_wait(10)\n",
    "    html_content = browser.page_source\n",
    "    soup = BeautifulSoup(html_content, 'html.parser')\n",
    "    div_elements = soup.find_all('div', class_=re.compile(r'^Nv2PK '))\n",
    "\n",
    "    for div_element in div_elements:\n",
    "        name = div_element.find('a', class_='hfpxzc')['aria-label']\n",
    "        category_parent_divs = div_element.find_all('div', class_='W4Efsd')\n",
    "        if len(category_parent_divs) >= 2:\n",
    "            category_span =category_parent_divs[1].select('span > span')\n",
    "            category = category_span[0].text.strip()\n",
    "        else:\n",
    "            category = ''\n",
    "        href = div_element.find('a', class_='hfpxzc')['href']\n",
    "        latitude = re.search(r'!3d(.*?)!4d(.*?)!', href).group(1)\n",
    "        longitude = re.search(r'!3d(.*?)!4d(.*?)!', href).group(2)\n",
    "        if name not in record:\n",
    "            record.append((name,category,latitude,longitude))\n",
    " \n",
    "\n",
    "for query in search_queries:\n",
    "    print(query)\n",
    "    google_map_extractor(query)"
   ]
  },
  {
   "cell_type": "code",
   "execution_count": 13,
   "metadata": {},
   "outputs": [],
   "source": [
    "df = pd.DataFrame(record, columns=['name', 'category', 'lat', 'long'])\n",
    "file_name = '..\\Data\\Map_Data.xlsx'\n",
    "df.to_excel(file_name, index=False)"
   ]
  },
  {
   "cell_type": "code",
   "execution_count": 14,
   "metadata": {},
   "outputs": [
    {
     "name": "stderr",
     "output_type": "stream",
     "text": [
      "C:\\Users\\dilmu\\AppData\\Local\\Temp\\ipykernel_9608\\900296868.py:39: FutureWarning: A value is trying to be set on a copy of a DataFrame or Series through chained assignment using an inplace method.\n",
      "The behavior will change in pandas 3.0. This inplace method will never work because the intermediate object on which we are setting values always behaves as a copy.\n",
      "\n",
      "For example, when doing 'df[col].method(value, inplace=True)', try using 'df.method({col: value}, inplace=True)' or df[col] = df[col].method(value) instead, to perform the operation inplace on the original object.\n",
      "\n",
      "\n",
      "  df_map['category'].replace(corrections, inplace=True)\n"
     ]
    }
   ],
   "source": [
    "df_map = pd.read_excel('..\\Data\\Map_Data.xlsx')\n",
    "categories_to_keep = ['Школа', 'Супермаркет', 'Магазин', 'Частная школа', 'Средняя школа', 'Начальная школа',\n",
    "                      'Международная школа', 'Торговый центр', 'Продовольственный магазин',\n",
    "                      'Магазин шаговой доступности', 'Супермаркет низких цен', 'Ресторан', 'фастфуд',\n",
    "                      'Узбекская кухня','Кафе','Суши','Турецкая кухня','Гамбургеры','Корейская кухня','Японская кухня','Еда на вынос','Доставка готовой еды','Парк']\n",
    "\n",
    "df_map = df_map[df_map['category'].isin(categories_to_keep)]\n",
    "\n",
    "corrections = {\n",
    "    'Магазин': 'grocery',\n",
    "    'Супермаркет': 'grocery',\n",
    "    'Продовольственный магазин': 'grocery',\n",
    "    'Магазин шаговой доступности': 'grocery',\n",
    "    'Супермаркет низких цен': 'grocery',\n",
    "    'Рынок': 'grocery',\n",
    "    'Начальная школа': 'school',\n",
    "    'Частная школа': 'school',\n",
    "    'Средняя школа': 'school',\n",
    "    'Школа': 'school',\n",
    "    'Международная школа': 'school',\n",
    "    'Торговый центр': 'mall',\n",
    "    'Парк': 'park',\n",
    "    'Ресторан':'food', \n",
    "    'фастфуд':'food',\n",
    "    'Узбекская кухня':'food',\n",
    "    'Кафе':'food',\n",
    "    'Суши':'food',\n",
    "    'Турецкая кухня':'food',\n",
    "    'Гамбургеры':'food',\n",
    "    'Корейская кухня':'food',\n",
    "    'Японская кухня':'food',\n",
    "    'Еда на вынос':'food',\n",
    "    'Доставка готовой еды':'food',\n",
    "    'Парк': 'park',\n",
    "    'Станция метро': 'metro_station',\n",
    "    'Детский сад': 'kindergarten'\n",
    "}\n",
    "\n",
    "df_map['category'].replace(corrections, inplace=True)\n",
    "\n",
    "df_map.dropna(subset=['category', 'lat', 'long'], inplace=True)\n",
    "\n",
    "df_map.drop_duplicates(subset=['category', 'lat', 'long'], inplace=True)"
   ]
  },
  {
   "cell_type": "code",
   "execution_count": 15,
   "metadata": {},
   "outputs": [],
   "source": [
    "file_name = '..\\Data\\Cleaned_Map_Data.xlsx'\n",
    "df_map.to_excel(file_name, index=False)"
   ]
  }
 ],
 "metadata": {
  "kernelspec": {
   "display_name": "Python 3",
   "language": "python",
   "name": "python3"
  },
  "language_info": {
   "codemirror_mode": {
    "name": "ipython",
    "version": 3
   },
   "file_extension": ".py",
   "mimetype": "text/x-python",
   "name": "python",
   "nbconvert_exporter": "python",
   "pygments_lexer": "ipython3",
   "version": "3.11.8"
  }
 },
 "nbformat": 4,
 "nbformat_minor": 2
}
