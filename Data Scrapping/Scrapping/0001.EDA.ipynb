{
 "cells": [
  {
   "cell_type": "code",
   "execution_count": 1,
   "metadata": {},
   "outputs": [],
   "source": [
    "import pandas as pd\n",
    "import geopandas as gpd\n",
    "from shapely.geometry import Point\n",
    "import numpy as np"
   ]
  },
  {
   "cell_type": "code",
   "execution_count": 2,
   "metadata": {},
   "outputs": [
    {
     "data": {
      "text/plain": [
       "(19699, 18)"
      ]
     },
     "execution_count": 2,
     "metadata": {},
     "output_type": "execute_result"
    }
   ],
   "source": [
    "data = pd.read_excel(\"..\\Data\\Combined.xlsx\")\n",
    "\n",
    "df = pd.DataFrame(data)\n",
    "df = df[df['Цена'] != 0]\n",
    "df.shape"
   ]
  },
  {
   "cell_type": "code",
   "execution_count": 3,
   "metadata": {},
   "outputs": [],
   "source": [
    "column_translation = {\n",
    "    'Источник': 'source',\n",
    "    'Название': 'title',\n",
    "    'Тип': 'type',\n",
    "    'Санузел': 'bathroom',\n",
    "    'Тип постройки': 'building_type',\n",
    "    'Материал': 'material',\n",
    "    'Широта': 'lat',\n",
    "    'Долгота': 'long',\n",
    "    'Район': 'district',\n",
    "    'Этаж': 'floor',\n",
    "    'Этажность': 'num_of_floors',\n",
    "    'Ремонт': 'renovation',\n",
    "    'Площадь': 'area',\n",
    "    'Количество комнат': 'num_of_rooms',\n",
    "    'Дата публикации': 'publication_date',\n",
    "    'Валюта': 'currency',\n",
    "    'Цена': 'price',\n",
    "    'Дата создания': 'created_date'\n",
    "}\n",
    "\n",
    "df = df.rename(columns=column_translation)\n",
    "\n",
    "df = df[['source', 'type', 'building_type',\n",
    "       'lat', 'long', 'district', 'floor', 'num_of_floors', 'renovation',\n",
    "       'area', 'num_of_rooms', 'publication_date', 'currency', 'price']]"
   ]
  },
  {
   "cell_type": "code",
   "execution_count": 4,
   "metadata": {},
   "outputs": [
    {
     "name": "stdout",
     "output_type": "stream",
     "text": [
      "Number of duplicates removed: 9943\n"
     ]
    }
   ],
   "source": [
    "init_len = len(df)\n",
    "\n",
    "subset_columns = ['type', 'building_type', 'district', 'floor', 'num_of_floors', 'renovation',\n",
    "         'area', 'num_of_rooms']\n",
    "\n",
    "df = df.drop_duplicates(subset=subset_columns)\n",
    "\n",
    "after_len = len(df)\n",
    "print(\"Number of duplicates removed:\", init_len - after_len)"
   ]
  },
  {
   "cell_type": "code",
   "execution_count": 5,
   "metadata": {},
   "outputs": [],
   "source": [
    "usd_mask = df['currency'] == \"USD\"\n",
    "df.loc[usd_mask, 'price'] *= 12500\n",
    "df.loc[usd_mask, 'currency'] = \"UZS\""
   ]
  },
  {
   "cell_type": "code",
   "execution_count": 6,
   "metadata": {},
   "outputs": [],
   "source": [
    "df['publication_date'] = pd.to_datetime(df['publication_date'], format='%d.%m.%Y')\n",
    "df['year'] = df['publication_date'].dt.year\n",
    "df['year'] = df['year'].fillna(np.nan).astype(float).astype('Int64')"
   ]
  },
  {
   "cell_type": "code",
   "execution_count": 7,
   "metadata": {},
   "outputs": [],
   "source": [
    "df = df[['source', 'type', 'building_type',\n",
    "       'lat', 'long', 'district', 'floor', 'num_of_floors', 'renovation',\n",
    "       'area', 'num_of_rooms', 'currency', 'price', 'year']]"
   ]
  },
  {
   "cell_type": "code",
   "execution_count": 8,
   "metadata": {},
   "outputs": [
    {
     "name": "stderr",
     "output_type": "stream",
     "text": [
      "C:\\Users\\dilmu\\AppData\\Roaming\\Python\\Python311\\site-packages\\IPython\\core\\interactiveshell.py:3517: FutureWarning: The `op` parameter is deprecated and will be removed in a future release. Please use the `predicate` parameter instead.\n",
      "  if await self.run_code(code, result, async_=asy):\n",
      "C:\\Users\\dilmu\\AppData\\Local\\Temp\\ipykernel_20292\\3605525777.py:4: UserWarning: CRS mismatch between the CRS of left geometries and the CRS of right geometries.\n",
      "Use `to_crs()` to reproject one of the input geometries to match the CRS of the other.\n",
      "\n",
      "Left CRS: None\n",
      "Right CRS: EPSG:4326\n",
      "\n",
      "  joined = gpd.sjoin(gdf, district_borders, how=\"left\", op='within')\n"
     ]
    }
   ],
   "source": [
    "district_borders = gpd.read_file('../Data/district_borders.json')\n",
    "df['geometry'] = df.apply(lambda row: Point(row['long'], row['lat']), axis=1)\n",
    "gdf = gpd.GeoDataFrame(df, geometry='geometry')\n",
    "joined = gpd.sjoin(gdf, district_borders, how=\"left\", op='within')\n",
    "df['district'] = df['district'].fillna(joined['NOMI'])\n",
    "df.drop(columns=['geometry'], inplace=True)"
   ]
  },
  {
   "cell_type": "code",
   "execution_count": 9,
   "metadata": {},
   "outputs": [
    {
     "name": "stderr",
     "output_type": "stream",
     "text": [
      "C:\\Users\\dilmu\\AppData\\Local\\Temp\\ipykernel_20292\\1380307089.py:17: FutureWarning: A value is trying to be set on a copy of a DataFrame or Series through chained assignment using an inplace method.\n",
      "The behavior will change in pandas 3.0. This inplace method will never work because the intermediate object on which we are setting values always behaves as a copy.\n",
      "\n",
      "For example, when doing 'df[col].method(value, inplace=True)', try using 'df.method({col: value}, inplace=True)' or df[col] = df[col].method(value) instead, to perform the operation inplace on the original object.\n",
      "\n",
      "\n",
      "  df['type'].replace(corrections, inplace=True)\n"
     ]
    }
   ],
   "source": [
    "df['type'] = df['type'].str.lower()\n",
    "\n",
    "corrections = {\n",
    "    'квартира': 'квартира',\n",
    "    'квартира': 'квартира',\n",
    "    'частный дом': 'частный',\n",
    "    'земля': 'частный',\n",
    "    'участок': 'частный',\n",
    "    'евро дом': 'частный',\n",
    "    'дом': 'частный',\n",
    "    'частный дом на продажу':'частный',\n",
    "    'квартира во вторичке на продажу': 'квартира',\n",
    "    'квартира в новостройке на продажу': 'квартира',\n",
    "    'дача на продажу': 'частный',\n",
    "}                                       \n",
    "\n",
    "df['type'].replace(corrections, inplace=True)\n",
    "\n",
    "allowed_categories = corrections.values()\n",
    "df = df[df['type'].isin(allowed_categories)]\n",
    "df.reset_index(drop=True, inplace=True)"
   ]
  },
  {
   "cell_type": "code",
   "execution_count": 10,
   "metadata": {},
   "outputs": [
    {
     "name": "stderr",
     "output_type": "stream",
     "text": [
      "C:\\Users\\dilmu\\AppData\\Local\\Temp\\ipykernel_20292\\91382276.py:25: FutureWarning: A value is trying to be set on a copy of a DataFrame or Series through chained assignment using an inplace method.\n",
      "The behavior will change in pandas 3.0. This inplace method will never work because the intermediate object on which we are setting values always behaves as a copy.\n",
      "\n",
      "For example, when doing 'df[col].method(value, inplace=True)', try using 'df.method({col: value}, inplace=True)' or df[col] = df[col].method(value) instead, to perform the operation inplace on the original object.\n",
      "\n",
      "\n",
      "  df['building_type'].replace(corrections, inplace=True)\n"
     ]
    }
   ],
   "source": [
    "df['building_type'] = df['building_type'].str.lower()\n",
    "\n",
    "corrections = {\n",
    "    'Новострой': 'первичный',\n",
    "    'Вторичный': 'вторичный',\n",
    "    'Вторичка': 'вторичный',\n",
    "    'Вторичный рынок': 'вторичный',\n",
    "    'Новостройки': 'первичный',\n",
    "    'Первичный': 'первичный',\n",
    "    'вторичный': 'вторичный',\n",
    "    'Новостройка': 'первичный',\n",
    "    'первичный': 'первичный',\n",
    "    'первычный': 'первичный',\n",
    "    'Вторичний':  'вторичный',\n",
    "    'торичный': 'вторичный',\n",
    "    'Вторичные': 'вторичный',\n",
    "    'Вторичный': 'вторичный',\n",
    "    'вторичный рынок': 'вторичный',\n",
    "    'новостройка': 'первичный',\n",
    "    'новостройки': 'первичный',\n",
    "    'новострой': 'первичный',\n",
    "    'вторичка': 'вторичный',\n",
    "}\n",
    "\n",
    "df['building_type'].replace(corrections, inplace=True)\n",
    "allowed_categories = corrections.values()\n",
    "df = df[df['building_type'].isin(allowed_categories)]\n",
    "df.reset_index(drop=True, inplace=True)"
   ]
  },
  {
   "cell_type": "code",
   "execution_count": 11,
   "metadata": {},
   "outputs": [
    {
     "name": "stderr",
     "output_type": "stream",
     "text": [
      "C:\\Users\\dilmu\\AppData\\Local\\Temp\\ipykernel_20292\\54849902.py:24: FutureWarning: A value is trying to be set on a copy of a DataFrame or Series through chained assignment using an inplace method.\n",
      "The behavior will change in pandas 3.0. This inplace method will never work because the intermediate object on which we are setting values always behaves as a copy.\n",
      "\n",
      "For example, when doing 'df[col].method(value, inplace=True)', try using 'df.method({col: value}, inplace=True)' or df[col] = df[col].method(value) instead, to perform the operation inplace on the original object.\n",
      "\n",
      "\n",
      "  df['renovation'].replace(corrections, inplace=True)\n"
     ]
    }
   ],
   "source": [
    "df['renovation'] = df['renovation'].str.lower()\n",
    "\n",
    "corrections = {\n",
    "    'евро ремонт': 'евроремонт',\n",
    "    'квро ремонт': 'евроремонт',\n",
    "    'евро ремонт': 'евроремонт',\n",
    "    'с ремонтом': 'средний ремонт',\n",
    "    'требуется ремонт': 'нужен ремонт',\n",
    "    'требует ремонта': 'нужен ремонт',\n",
    "    'средняя': 'средний ремонт',\n",
    "    'среднее состояние': 'средний ремонт',\n",
    "    'требует ремонта': 'нужен ремонт',\n",
    "    'незаконченный евроремонт': 'нужен ремонт',\n",
    "    'требует ремонта':  'нужен ремонт',\n",
    "    'дизайнерский': 'евроремонт',\n",
    "    'не требуется': 'средний ремонт',\n",
    "    'косметический': 'евроремонт',\n",
    "    'черновая отделка': 'нужен ремонт',\n",
    "    'коробка': 'нужен ремонт',\n",
    "    'без ремонта': 'нужен ремонт',\n",
    "    'капитальный ремонт': 'евроремонт',\n",
    "}\n",
    "\n",
    "df['renovation'].replace(corrections, inplace=True)\n",
    "allowed_categories = corrections.values()\n",
    "df = df[df['renovation'].isin(allowed_categories)]\n",
    "df.reset_index(drop=True, inplace=True)"
   ]
  },
  {
   "cell_type": "code",
   "execution_count": 12,
   "metadata": {},
   "outputs": [
    {
     "data": {
      "text/plain": [
       "district\n",
       "Алмазарский район          181\n",
       "Бектемирский район          11\n",
       "Мирабадский район          275\n",
       "Мирзо-Улугбекский район    455\n",
       "Сергелийский район         131\n",
       "Учтепинский район          222\n",
       "Чиланзарский район         323\n",
       "Шайхантахурский район      317\n",
       "Юнусабадский район         400\n",
       "Яккасарайский район        258\n",
       "Янгихаётский район          45\n",
       "Яшнабадский район          380\n",
       "dtype: int64"
      ]
     },
     "execution_count": 12,
     "metadata": {},
     "output_type": "execute_result"
    }
   ],
   "source": [
    "# Group by 'district' column and count the number of rows in each group\n",
    "district_counts = df.groupby('district').size()\n",
    "\n",
    "# Display the count of rows in each district\n",
    "district_counts"
   ]
  },
  {
   "cell_type": "code",
   "execution_count": 13,
   "metadata": {},
   "outputs": [
    {
     "name": "stderr",
     "output_type": "stream",
     "text": [
      "C:\\Users\\dilmu\\AppData\\Local\\Temp\\ipykernel_20292\\2822163125.py:37: FutureWarning: A value is trying to be set on a copy of a DataFrame or Series through chained assignment using an inplace method.\n",
      "The behavior will change in pandas 3.0. This inplace method will never work because the intermediate object on which we are setting values always behaves as a copy.\n",
      "\n",
      "For example, when doing 'df[col].method(value, inplace=True)', try using 'df.method({col: value}, inplace=True)' or df[col] = df[col].method(value) instead, to perform the operation inplace on the original object.\n",
      "\n",
      "\n",
      "  df_map['category'].replace(corrections, inplace=True)\n"
     ]
    }
   ],
   "source": [
    "df_map = pd.read_excel('..\\Data\\Map_Data.xlsx')\n",
    "categories_to_keep = ['Школа', 'Супермаркет', 'Магазин', 'Частная школа', 'Средняя школа', 'Начальная школа',\n",
    "                      'Международная школа', 'Торговый центр', 'Продовольственный магазин',\n",
    "                      'Магазин шаговой доступности', 'Супермаркет низких цен', 'Ресторан', 'фастфуд',\n",
    "                      'Узбекская кухня','Кафе','Суши','Турецкая кухня','Гамбургеры','Корейская кухня','Японская кухня','Еда на вынос','Доставка готовой еды','Парк']\n",
    "\n",
    "df_map = df_map[df_map['category'].isin(categories_to_keep)]\n",
    "\n",
    "corrections = {\n",
    "    'Магазин': 'grocery',\n",
    "    'Супермаркет': 'grocery',\n",
    "    'Продовольственный магазин': 'grocery',\n",
    "    'Магазин шаговой доступности': 'grocery',\n",
    "    'Супермаркет низких цен': 'grocery',\n",
    "    'Рынок': 'grocery',\n",
    "    'Начальная школа': 'school',\n",
    "    'Частная школа': 'school',\n",
    "    'Средняя школа': 'school',\n",
    "    'Школа': 'school',\n",
    "    'Международная школа': 'school',\n",
    "    'Торговый центр': 'mall',\n",
    "    'Парк': 'park',\n",
    "    'Ресторан':'food', \n",
    "    'фастфуд':'food',\n",
    "    'Узбекская кухня':'food',\n",
    "    'Кафе':'food',\n",
    "    'Суши':'food',\n",
    "    'Турецкая кухня':'food',\n",
    "    'Гамбургеры':'food',\n",
    "    'Корейская кухня':'food',\n",
    "    'Японская кухня':'food',\n",
    "    'Еда на вынос':'food',\n",
    "    'Доставка готовой еды':'food',\n",
    "    'Парк': 'park'\n",
    "}\n",
    "\n",
    "df_map['category'].replace(corrections, inplace=True)\n",
    "\n",
    "df_map.dropna(subset=['category', 'lat', 'long'], inplace=True)\n",
    "\n",
    "df_map.drop_duplicates(subset=['category', 'lat', 'long'], inplace=True)"
   ]
  },
  {
   "cell_type": "code",
   "execution_count": 14,
   "metadata": {},
   "outputs": [],
   "source": [
    "# def haversine(lat1, lon1, lat2, lon2):\n",
    "#     lat1, lon1, lat2, lon2 = map(np.radians, [lat1, lon1, lat2, lon2])\n",
    "#     dlon = lon2 - lon1\n",
    "#     dlat = lat2 - lat1\n",
    "#     a = np.sin(dlat / 2) ** 2 + np.cos(lat1) * np.cos(lat2) * np.sin(dlon / 2) ** 2\n",
    "#     c = 2 * np.arcsin(np.sqrt(a))\n",
    "#     r = 6371 \n",
    "#     return c * r\n",
    "\n",
    "# categories = df_map['category'].unique()\n",
    "# for cat in categories:\n",
    "#     df[cat] = 0\n",
    "\n",
    "# for i, row_df in df.iterrows():\n",
    "#     print(i)\n",
    "#     for j, row_map in df_map.iterrows():\n",
    "#         dist = haversine(row_df['lat'], row_df['long'], row_map['lat'], row_map['long'])\n",
    "#         if dist <= 2:\n",
    "#             df.at[i, row_map['category']] += 1\n"
   ]
  },
  {
   "cell_type": "code",
   "execution_count": 15,
   "metadata": {},
   "outputs": [],
   "source": [
    "# weights = {'school': 0.5, 'grocery': 0.5, 'mall': 0.3, 'food': 0.3, 'park': 0.5}\n",
    "# df['comfortability_index'] = df['school'] * weights['school'] + \\\n",
    "#                               df['grocery'] * weights['grocery'] + \\\n",
    "#                               df['mall'] * weights['mall'] + \\\n",
    "#                               df['food'] * weights['food'] + \\\n",
    "#                               df['park'] * weights['park']"
   ]
  },
  {
   "cell_type": "code",
   "execution_count": 16,
   "metadata": {},
   "outputs": [],
   "source": [
    "# df = df[df['comfortability_index'] >= 0]"
   ]
  },
  {
   "cell_type": "code",
   "execution_count": 17,
   "metadata": {},
   "outputs": [],
   "source": [
    "for column in df.columns:\n",
    "    mode_value = df[column].mode()[0]\n",
    "    df[column] = df[column].fillna(mode_value)"
   ]
  },
  {
   "cell_type": "code",
   "execution_count": 18,
   "metadata": {},
   "outputs": [],
   "source": [
    "# df_price = pd.read_excel('..\\Data\\Pricing.xlsx')\n",
    "# df = pd.merge(df, df_price, on=['year', 'type', 'building_type'], how='left')"
   ]
  },
  {
   "cell_type": "code",
   "execution_count": 19,
   "metadata": {},
   "outputs": [],
   "source": [
    "def remove_outliers(df, column, threshold):\n",
    "    # Convert column to numeric type if necessary\n",
    "    df[column] = pd.to_numeric(df[column], errors='coerce')\n",
    "    \n",
    "    # Calculate mean and standard deviation\n",
    "    mean_val = df[column].mean()\n",
    "    std_val = df[column].std()\n",
    "    \n",
    "    # Calculate lower and upper bounds for outliers\n",
    "    lower_bound = mean_val - threshold * std_val\n",
    "    upper_bound = mean_val + threshold * std_val\n",
    "    \n",
    "    # Remove outliers\n",
    "    df = df[(df[column] >= lower_bound) & (df[column] <= upper_bound)]\n",
    "    \n",
    "    return df\n",
    "\n",
    "\n",
    "df = remove_outliers(df, 'price', 3)\n",
    "df = remove_outliers(df, 'num_of_rooms', 3)\n",
    "df = remove_outliers(df, 'area', 3)\n",
    "df.reset_index(drop=True, inplace=True)"
   ]
  },
  {
   "cell_type": "code",
   "execution_count": 20,
   "metadata": {},
   "outputs": [],
   "source": [
    "df = df[['renovation',\t'district', 'area',\t'num_of_rooms', 'type', 'building_type', 'price']]"
   ]
  },
  {
   "cell_type": "code",
   "execution_count": 21,
   "metadata": {},
   "outputs": [],
   "source": [
    "def encode_and_drop(df, column_name):\n",
    "    one_hot_encoded = pd.get_dummies(df[column_name], prefix=column_name)\n",
    "    one_hot_encoded = one_hot_encoded.astype(int)\n",
    "    \n",
    "    df = pd.concat([df, one_hot_encoded], axis=1)\n",
    "    \n",
    "    df.drop(column_name, axis=1, inplace=True)\n",
    "    \n",
    "    return df\n",
    "\n",
    "columns_to_process = ['district', 'renovation', 'type', 'building_type']\n",
    "for column in columns_to_process:\n",
    "    df = encode_and_drop(df, column)\n"
   ]
  },
  {
   "cell_type": "code",
   "execution_count": 22,
   "metadata": {},
   "outputs": [],
   "source": [
    "excel_file_path = \"..\\\\Data\\\\Cleaned_Combined.xlsx\"\n",
    "existing_data = pd.read_excel(excel_file_path)\n",
    "combined_data = pd.concat([existing_data, df])\n",
    "combined_data.drop_duplicates(keep='first', inplace=True)\n",
    "combined_data.to_excel(excel_file_path, index=False)"
   ]
  }
 ],
 "metadata": {
  "kernelspec": {
   "display_name": "Python 3",
   "language": "python",
   "name": "python3"
  },
  "language_info": {
   "codemirror_mode": {
    "name": "ipython",
    "version": 3
   },
   "file_extension": ".py",
   "mimetype": "text/x-python",
   "name": "python",
   "nbconvert_exporter": "python",
   "pygments_lexer": "ipython3",
   "version": "3.11.8"
  }
 },
 "nbformat": 4,
 "nbformat_minor": 2
}
