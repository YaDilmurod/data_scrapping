{
 "cells": [
  {
   "cell_type": "code",
   "execution_count": 162,
   "metadata": {},
   "outputs": [],
   "source": [
    "import pandas as pd\n",
    "import geopandas as gpd\n",
    "from shapely.geometry import Point\n",
    "import numpy as np"
   ]
  },
  {
   "cell_type": "code",
   "execution_count": 163,
   "metadata": {},
   "outputs": [
    {
     "data": {
      "text/plain": [
       "(19699, 18)"
      ]
     },
     "execution_count": 163,
     "metadata": {},
     "output_type": "execute_result"
    }
   ],
   "source": [
    "data = pd.read_excel(\"..\\Data\\Combined.xlsx\")\n",
    "\n",
    "df = pd.DataFrame(data)\n",
    "df = df[df['Цена'] != 0]\n",
    "df.shape"
   ]
  },
  {
   "cell_type": "code",
   "execution_count": 164,
   "metadata": {},
   "outputs": [],
   "source": [
    "column_translation = {\n",
    "    'Источник': 'source',\n",
    "    'Название': 'title',\n",
    "    'Тип': 'type',\n",
    "    'Санузел': 'bathroom',\n",
    "    'Тип постройки': 'building_type',\n",
    "    'Материал': 'material',\n",
    "    'Широта': 'lat',\n",
    "    'Долгота': 'long',\n",
    "    'Район': 'district',\n",
    "    'Этаж': 'floor',\n",
    "    'Этажность': 'num_of_floors',\n",
    "    'Ремонт': 'renovation',\n",
    "    'Площадь': 'area',\n",
    "    'Количество комнат': 'num_of_rooms',\n",
    "    'Дата публикации': 'publication_date',\n",
    "    'Валюта': 'currency',\n",
    "    'Цена': 'price',\n",
    "    'Дата создания': 'created_date'\n",
    "}\n",
    "\n",
    "df = df.rename(columns=column_translation)\n",
    "\n",
    "df = df[['source', 'type', 'building_type',\n",
    "       'lat', 'long', 'district', 'floor', 'num_of_floors', 'renovation',\n",
    "       'area', 'num_of_rooms', 'publication_date', 'currency', 'price']]"
   ]
  },
  {
   "cell_type": "code",
   "execution_count": 165,
   "metadata": {},
   "outputs": [
    {
     "name": "stdout",
     "output_type": "stream",
     "text": [
      "Number of duplicates removed: 9943\n"
     ]
    }
   ],
   "source": [
    "init_len = len(df)\n",
    "\n",
    "subset_columns = ['type', 'building_type', 'district', 'floor', 'num_of_floors', 'renovation',\n",
    "         'area', 'num_of_rooms']\n",
    "\n",
    "df = df.drop_duplicates(subset=subset_columns)\n",
    "\n",
    "after_len = len(df)\n",
    "print(\"Number of duplicates removed:\", init_len - after_len)"
   ]
  },
  {
   "cell_type": "code",
   "execution_count": 166,
   "metadata": {},
   "outputs": [],
   "source": [
    "usd_mask = df['currency'] == \"USD\"\n",
    "df.loc[usd_mask, 'price'] *= 12500\n",
    "df.loc[usd_mask, 'currency'] = \"UZS\""
   ]
  },
  {
   "cell_type": "code",
   "execution_count": 167,
   "metadata": {},
   "outputs": [],
   "source": [
    "df['publication_date'] = pd.to_datetime(df['publication_date'], format='%d.%m.%Y')\n",
    "df['year'] = df['publication_date'].dt.year\n",
    "df['year'] = df['year'].fillna(np.nan).astype(float).astype('Int64')"
   ]
  },
  {
   "cell_type": "code",
   "execution_count": 168,
   "metadata": {},
   "outputs": [],
   "source": [
    "df = df[['source', 'type', 'building_type',\n",
    "       'lat', 'long', 'district', 'floor', 'num_of_floors', 'renovation',\n",
    "       'area', 'num_of_rooms', 'currency', 'price', 'year']]"
   ]
  },
  {
   "cell_type": "code",
   "execution_count": 169,
   "metadata": {},
   "outputs": [
    {
     "name": "stderr",
     "output_type": "stream",
     "text": [
      "C:\\Users\\dilmu\\AppData\\Roaming\\Python\\Python311\\site-packages\\IPython\\core\\interactiveshell.py:3517: FutureWarning: The `op` parameter is deprecated and will be removed in a future release. Please use the `predicate` parameter instead.\n",
      "  if await self.run_code(code, result, async_=asy):\n",
      "C:\\Users\\dilmu\\AppData\\Local\\Temp\\ipykernel_14676\\3951692619.py:4: UserWarning: CRS mismatch between the CRS of left geometries and the CRS of right geometries.\n",
      "Use `to_crs()` to reproject one of the input geometries to match the CRS of the other.\n",
      "\n",
      "Left CRS: None\n",
      "Right CRS: EPSG:4326\n",
      "\n",
      "  joined = gpd.sjoin(gdf, district_borders, how=\"left\", op='within')\n"
     ]
    }
   ],
   "source": [
    "district_borders = gpd.read_file('C:/Users/dilmu/OneDrive/Desktop/Project/data_scrapping/Data Scrapping/Data/district_borders.json')\n",
    "df['geometry'] = df.apply(lambda row: Point(row['long'], row['lat']), axis=1)\n",
    "gdf = gpd.GeoDataFrame(df, geometry='geometry')\n",
    "joined = gpd.sjoin(gdf, district_borders, how=\"left\", op='within')\n",
    "df['district'] = df['district'].fillna(joined['NOMI'])\n",
    "df.drop(columns=['geometry'], inplace=True)"
   ]
  },
  {
   "cell_type": "code",
   "execution_count": 170,
   "metadata": {},
   "outputs": [
    {
     "name": "stderr",
     "output_type": "stream",
     "text": [
      "C:\\Users\\dilmu\\AppData\\Local\\Temp\\ipykernel_14676\\1380307089.py:17: FutureWarning: A value is trying to be set on a copy of a DataFrame or Series through chained assignment using an inplace method.\n",
      "The behavior will change in pandas 3.0. This inplace method will never work because the intermediate object on which we are setting values always behaves as a copy.\n",
      "\n",
      "For example, when doing 'df[col].method(value, inplace=True)', try using 'df.method({col: value}, inplace=True)' or df[col] = df[col].method(value) instead, to perform the operation inplace on the original object.\n",
      "\n",
      "\n",
      "  df['type'].replace(corrections, inplace=True)\n"
     ]
    }
   ],
   "source": [
    "df['type'] = df['type'].str.lower()\n",
    "\n",
    "corrections = {\n",
    "    'квартира': 'квартира',\n",
    "    'квартира': 'квартира',\n",
    "    'частный дом': 'частный',\n",
    "    'земля': 'частный',\n",
    "    'участок': 'частный',\n",
    "    'евро дом': 'частный',\n",
    "    'дом': 'частный',\n",
    "    'частный дом на продажу':'частный',\n",
    "    'квартира во вторичке на продажу': 'квартира',\n",
    "    'квартира в новостройке на продажу': 'квартира',\n",
    "    'дача на продажу': 'частный',\n",
    "}                                       \n",
    "\n",
    "df['type'].replace(corrections, inplace=True)\n",
    "\n",
    "allowed_categories = corrections.values()\n",
    "df = df[df['type'].isin(allowed_categories)]\n",
    "df.reset_index(drop=True, inplace=True)"
   ]
  },
  {
   "cell_type": "code",
   "execution_count": 171,
   "metadata": {},
   "outputs": [
    {
     "name": "stderr",
     "output_type": "stream",
     "text": [
      "C:\\Users\\dilmu\\AppData\\Local\\Temp\\ipykernel_14676\\91382276.py:25: FutureWarning: A value is trying to be set on a copy of a DataFrame or Series through chained assignment using an inplace method.\n",
      "The behavior will change in pandas 3.0. This inplace method will never work because the intermediate object on which we are setting values always behaves as a copy.\n",
      "\n",
      "For example, when doing 'df[col].method(value, inplace=True)', try using 'df.method({col: value}, inplace=True)' or df[col] = df[col].method(value) instead, to perform the operation inplace on the original object.\n",
      "\n",
      "\n",
      "  df['building_type'].replace(corrections, inplace=True)\n"
     ]
    }
   ],
   "source": [
    "df['building_type'] = df['building_type'].str.lower()\n",
    "\n",
    "corrections = {\n",
    "    'Новострой': 'первичный',\n",
    "    'Вторичный': 'вторичный',\n",
    "    'Вторичка': 'вторичный',\n",
    "    'Вторичный рынок': 'вторичный',\n",
    "    'Новостройки': 'первичный',\n",
    "    'Первичный': 'первичный',\n",
    "    'вторичный': 'вторичный',\n",
    "    'Новостройка': 'первичный',\n",
    "    'первичный': 'первичный',\n",
    "    'первычный': 'первичный',\n",
    "    'Вторичний':  'вторичный',\n",
    "    'торичный': 'вторичный',\n",
    "    'Вторичные': 'вторичный',\n",
    "    'Вторичный': 'вторичный',\n",
    "    'вторичный рынок': 'вторичный',\n",
    "    'новостройка': 'первичный',\n",
    "    'новостройки': 'первичный',\n",
    "    'новострой': 'первичный',\n",
    "    'вторичка': 'вторичный',\n",
    "}\n",
    "\n",
    "df['building_type'].replace(corrections, inplace=True)\n",
    "allowed_categories = corrections.values()\n",
    "df = df[df['building_type'].isin(allowed_categories)]\n",
    "df.reset_index(drop=True, inplace=True)"
   ]
  },
  {
   "cell_type": "code",
   "execution_count": 172,
   "metadata": {},
   "outputs": [
    {
     "name": "stderr",
     "output_type": "stream",
     "text": [
      "C:\\Users\\dilmu\\AppData\\Local\\Temp\\ipykernel_14676\\54849902.py:24: FutureWarning: A value is trying to be set on a copy of a DataFrame or Series through chained assignment using an inplace method.\n",
      "The behavior will change in pandas 3.0. This inplace method will never work because the intermediate object on which we are setting values always behaves as a copy.\n",
      "\n",
      "For example, when doing 'df[col].method(value, inplace=True)', try using 'df.method({col: value}, inplace=True)' or df[col] = df[col].method(value) instead, to perform the operation inplace on the original object.\n",
      "\n",
      "\n",
      "  df['renovation'].replace(corrections, inplace=True)\n"
     ]
    }
   ],
   "source": [
    "df['renovation'] = df['renovation'].str.lower()\n",
    "\n",
    "corrections = {\n",
    "    'евро ремонт': 'евроремонт',\n",
    "    'квро ремонт': 'евроремонт',\n",
    "    'евро ремонт': 'евроремонт',\n",
    "    'с ремонтом': 'средний ремонт',\n",
    "    'требуется ремонт': 'нужен ремонт',\n",
    "    'требует ремонта': 'нужен ремонт',\n",
    "    'средняя': 'средний ремонт',\n",
    "    'среднее состояние': 'средний ремонт',\n",
    "    'требует ремонта': 'нужен ремонт',\n",
    "    'незаконченный евроремонт': 'нужен ремонт',\n",
    "    'требует ремонта':  'нужен ремонт',\n",
    "    'дизайнерский': 'евроремонт',\n",
    "    'не требуется': 'средний ремонт',\n",
    "    'косметический': 'евроремонт',\n",
    "    'черновая отделка': 'нужен ремонт',\n",
    "    'коробка': 'нужен ремонт',\n",
    "    'без ремонта': 'нужен ремонт',\n",
    "    'капитальный ремонт': 'евроремонт',\n",
    "}\n",
    "\n",
    "df['renovation'].replace(corrections, inplace=True)\n",
    "allowed_categories = corrections.values()\n",
    "df = df[df['renovation'].isin(allowed_categories)]\n",
    "df.reset_index(drop=True, inplace=True)"
   ]
  },
  {
   "cell_type": "code",
   "execution_count": 173,
   "metadata": {},
   "outputs": [
    {
     "data": {
      "text/plain": [
       "district\n",
       "Алмазарский район          181\n",
       "Бектемирский район          11\n",
       "Мирабадский район          275\n",
       "Мирзо-Улугбекский район    455\n",
       "Сергелийский район         131\n",
       "Учтепинский район          222\n",
       "Чиланзарский район         323\n",
       "Шайхантахурский район      317\n",
       "Юнусабадский район         400\n",
       "Яккасарайский район        258\n",
       "Янгихаётский район          45\n",
       "Яшнабадский район          380\n",
       "dtype: int64"
      ]
     },
     "execution_count": 173,
     "metadata": {},
     "output_type": "execute_result"
    }
   ],
   "source": [
    "# Group by 'district' column and count the number of rows in each group\n",
    "district_counts = df.groupby('district').size()\n",
    "\n",
    "# Display the count of rows in each district\n",
    "district_counts"
   ]
  },
  {
   "cell_type": "code",
   "execution_count": 174,
   "metadata": {},
   "outputs": [
    {
     "name": "stderr",
     "output_type": "stream",
     "text": [
      "C:\\Users\\dilmu\\AppData\\Local\\Temp\\ipykernel_14676\\2822163125.py:37: FutureWarning: A value is trying to be set on a copy of a DataFrame or Series through chained assignment using an inplace method.\n",
      "The behavior will change in pandas 3.0. This inplace method will never work because the intermediate object on which we are setting values always behaves as a copy.\n",
      "\n",
      "For example, when doing 'df[col].method(value, inplace=True)', try using 'df.method({col: value}, inplace=True)' or df[col] = df[col].method(value) instead, to perform the operation inplace on the original object.\n",
      "\n",
      "\n",
      "  df_map['category'].replace(corrections, inplace=True)\n"
     ]
    }
   ],
   "source": [
    "df_map = pd.read_excel('..\\Data\\Map_Data.xlsx')\n",
    "categories_to_keep = ['Школа', 'Супермаркет', 'Магазин', 'Частная школа', 'Средняя школа', 'Начальная школа',\n",
    "                      'Международная школа', 'Торговый центр', 'Продовольственный магазин',\n",
    "                      'Магазин шаговой доступности', 'Супермаркет низких цен', 'Ресторан', 'фастфуд',\n",
    "                      'Узбекская кухня','Кафе','Суши','Турецкая кухня','Гамбургеры','Корейская кухня','Японская кухня','Еда на вынос','Доставка готовой еды','Парк']\n",
    "\n",
    "df_map = df_map[df_map['category'].isin(categories_to_keep)]\n",
    "\n",
    "corrections = {\n",
    "    'Магазин': 'grocery',\n",
    "    'Супермаркет': 'grocery',\n",
    "    'Продовольственный магазин': 'grocery',\n",
    "    'Магазин шаговой доступности': 'grocery',\n",
    "    'Супермаркет низких цен': 'grocery',\n",
    "    'Рынок': 'grocery',\n",
    "    'Начальная школа': 'school',\n",
    "    'Частная школа': 'school',\n",
    "    'Средняя школа': 'school',\n",
    "    'Школа': 'school',\n",
    "    'Международная школа': 'school',\n",
    "    'Торговый центр': 'mall',\n",
    "    'Парк': 'park',\n",
    "    'Ресторан':'food', \n",
    "    'фастфуд':'food',\n",
    "    'Узбекская кухня':'food',\n",
    "    'Кафе':'food',\n",
    "    'Суши':'food',\n",
    "    'Турецкая кухня':'food',\n",
    "    'Гамбургеры':'food',\n",
    "    'Корейская кухня':'food',\n",
    "    'Японская кухня':'food',\n",
    "    'Еда на вынос':'food',\n",
    "    'Доставка готовой еды':'food',\n",
    "    'Парк': 'park'\n",
    "}\n",
    "\n",
    "df_map['category'].replace(corrections, inplace=True)\n",
    "\n",
    "df_map.dropna(subset=['category', 'lat', 'long'], inplace=True)\n",
    "\n",
    "df_map.drop_duplicates(subset=['category', 'lat', 'long'], inplace=True)"
   ]
  },
  {
   "cell_type": "code",
   "execution_count": 175,
   "metadata": {},
   "outputs": [],
   "source": [
    "# def haversine(lat1, lon1, lat2, lon2):\n",
    "#     lat1, lon1, lat2, lon2 = map(np.radians, [lat1, lon1, lat2, lon2])\n",
    "#     dlon = lon2 - lon1\n",
    "#     dlat = lat2 - lat1\n",
    "#     a = np.sin(dlat / 2) ** 2 + np.cos(lat1) * np.cos(lat2) * np.sin(dlon / 2) ** 2\n",
    "#     c = 2 * np.arcsin(np.sqrt(a))\n",
    "#     r = 6371 \n",
    "#     return c * r\n",
    "\n",
    "# categories = df_map['category'].unique()\n",
    "# for cat in categories:\n",
    "#     df[cat] = 0\n",
    "\n",
    "# for i, row_df in df.iterrows():\n",
    "#     print(i)\n",
    "#     for j, row_map in df_map.iterrows():\n",
    "#         dist = haversine(row_df['lat'], row_df['long'], row_map['lat'], row_map['long'])\n",
    "#         if dist <= 2:\n",
    "#             df.at[i, row_map['category']] += 1\n"
   ]
  },
  {
   "cell_type": "code",
   "execution_count": 176,
   "metadata": {},
   "outputs": [],
   "source": [
    "# weights = {'school': 0.5, 'grocery': 0.5, 'mall': 0.3, 'food': 0.3, 'park': 0.5}\n",
    "# df['comfortability_index'] = df['school'] * weights['school'] + \\\n",
    "#                               df['grocery'] * weights['grocery'] + \\\n",
    "#                               df['mall'] * weights['mall'] + \\\n",
    "#                               df['food'] * weights['food'] + \\\n",
    "#                               df['park'] * weights['park']"
   ]
  },
  {
   "cell_type": "code",
   "execution_count": 177,
   "metadata": {},
   "outputs": [],
   "source": [
    "# df = df[df['comfortability_index'] >= 0]"
   ]
  },
  {
   "cell_type": "code",
   "execution_count": 178,
   "metadata": {},
   "outputs": [],
   "source": [
    "for column in df.columns:\n",
    "    mode_value = df[column].mode()[0]\n",
    "    df[column] = df[column].fillna(mode_value)"
   ]
  },
  {
   "cell_type": "code",
   "execution_count": 179,
   "metadata": {},
   "outputs": [],
   "source": [
    "# df_price = pd.read_excel('..\\Data\\Pricing.xlsx')\n",
    "# df = pd.merge(df, df_price, on=['year', 'type', 'building_type'], how='left')"
   ]
  },
  {
   "cell_type": "code",
   "execution_count": 180,
   "metadata": {},
   "outputs": [],
   "source": [
    "def remove_outliers(df, column, threshold):\n",
    "    # Convert column to numeric type if necessary\n",
    "    df[column] = pd.to_numeric(df[column], errors='coerce')\n",
    "    \n",
    "    # Calculate mean and standard deviation\n",
    "    mean_val = df[column].mean()\n",
    "    std_val = df[column].std()\n",
    "    \n",
    "    # Calculate lower and upper bounds for outliers\n",
    "    lower_bound = mean_val - threshold * std_val\n",
    "    upper_bound = mean_val + threshold * std_val\n",
    "    \n",
    "    # Remove outliers\n",
    "    df = df[(df[column] >= lower_bound) & (df[column] <= upper_bound)]\n",
    "    \n",
    "    return df\n",
    "\n",
    "\n",
    "df = remove_outliers(df, 'price', 3)\n",
    "df = remove_outliers(df, 'num_of_rooms', 3)\n",
    "df = remove_outliers(df, 'area', 3)\n",
    "df.reset_index(drop=True, inplace=True)"
   ]
  },
  {
   "cell_type": "code",
   "execution_count": 181,
   "metadata": {},
   "outputs": [],
   "source": [
    "df = df[['renovation',\t'district', 'area',\t'num_of_rooms', 'type', 'building_type', 'price']]"
   ]
  },
  {
   "cell_type": "code",
   "execution_count": 182,
   "metadata": {},
   "outputs": [],
   "source": [
    "def encode_and_drop(df, column_name):\n",
    "    one_hot_encoded = pd.get_dummies(df[column_name], prefix=column_name)\n",
    "    one_hot_encoded = one_hot_encoded.astype(int)\n",
    "    \n",
    "    df = pd.concat([df, one_hot_encoded], axis=1)\n",
    "    \n",
    "    df.drop(column_name, axis=1, inplace=True)\n",
    "    \n",
    "    return df\n",
    "\n",
    "columns_to_process = ['district', 'renovation', 'type', 'building_type']\n",
    "for column in columns_to_process:\n",
    "    df = encode_and_drop(df, column)\n"
   ]
  },
  {
   "cell_type": "code",
   "execution_count": 183,
   "metadata": {},
   "outputs": [
    {
     "name": "stdout",
     "output_type": "stream",
     "text": [
      "area                                0.263531\n",
      "num_of_rooms                        0.528001\n",
      "price                               1.000000\n",
      "district_Алмазарский район         -0.084895\n",
      "district_Бектемирский район        -0.021740\n",
      "district_Мирабадский район          0.050283\n",
      "district_Мирзо-Улугбекский район    0.206528\n",
      "district_Сергелийский район        -0.072451\n",
      "district_Учтепинский район         -0.148511\n",
      "district_Чиланзарский район        -0.137855\n",
      "district_Шайхантахурский район     -0.030400\n",
      "district_Юнусабадский район         0.014821\n",
      "district_Яккасарайский район        0.063096\n",
      "district_Янгихаётский район        -0.045407\n",
      "district_Яшнабадский район         -0.100176\n",
      "renovation_евроремонт               0.253170\n",
      "renovation_нужен ремонт            -0.098538\n",
      "renovation_средний ремонт          -0.237075\n",
      "type_квартира                      -0.334613\n",
      "type_частный                        0.334613\n",
      "building_type_вторичный             0.023076\n",
      "building_type_первичный            -0.023076\n",
      "Name: price, dtype: float64\n"
     ]
    }
   ],
   "source": [
    "correlation_matrix = df.corr()\n",
    "\n",
    "correlation_with_price = correlation_matrix['price']\n",
    "\n",
    "print(correlation_with_price)"
   ]
  },
  {
   "cell_type": "code",
   "execution_count": 184,
   "metadata": {},
   "outputs": [],
   "source": [
    "from sklearn.preprocessing import StandardScaler\n",
    "X = df.drop('price', axis=1)\n",
    "y = df['price']\n",
    "scaler = StandardScaler()\n",
    "X_scaled = scaler.fit_transform(X)\n",
    "X_scaled_df = pd.DataFrame(X_scaled, columns=X.columns)\n",
    "\n",
    "df_scaled = pd.concat([X_scaled_df, y], axis=1)"
   ]
  },
  {
   "cell_type": "code",
   "execution_count": 185,
   "metadata": {},
   "outputs": [
    {
     "ename": "FileNotFoundError",
     "evalue": "[Errno 2] No such file or directory: '..\\\\Data\\\\Cleaned_Combined.xlsx'",
     "output_type": "error",
     "traceback": [
      "\u001b[1;31m---------------------------------------------------------------------------\u001b[0m",
      "\u001b[1;31mFileNotFoundError\u001b[0m                         Traceback (most recent call last)",
      "Cell \u001b[1;32mIn[185], line 2\u001b[0m\n\u001b[0;32m      1\u001b[0m excel_file_path \u001b[38;5;241m=\u001b[39m \u001b[38;5;124m\"\u001b[39m\u001b[38;5;124m..\u001b[39m\u001b[38;5;130;01m\\\\\u001b[39;00m\u001b[38;5;124mData\u001b[39m\u001b[38;5;130;01m\\\\\u001b[39;00m\u001b[38;5;124mCleaned_Combined.xlsx\u001b[39m\u001b[38;5;124m\"\u001b[39m\n\u001b[1;32m----> 2\u001b[0m existing_data \u001b[38;5;241m=\u001b[39m \u001b[43mpd\u001b[49m\u001b[38;5;241;43m.\u001b[39;49m\u001b[43mread_excel\u001b[49m\u001b[43m(\u001b[49m\u001b[43mexcel_file_path\u001b[49m\u001b[43m)\u001b[49m\n\u001b[0;32m      3\u001b[0m combined_data \u001b[38;5;241m=\u001b[39m pd\u001b[38;5;241m.\u001b[39mconcat([existing_data, df_scaled])\n\u001b[0;32m      4\u001b[0m combined_data\u001b[38;5;241m.\u001b[39mdrop_duplicates(keep\u001b[38;5;241m=\u001b[39m\u001b[38;5;124m'\u001b[39m\u001b[38;5;124mfirst\u001b[39m\u001b[38;5;124m'\u001b[39m, inplace\u001b[38;5;241m=\u001b[39m\u001b[38;5;28;01mTrue\u001b[39;00m)\n",
      "File \u001b[1;32mc:\\Users\\dilmu\\AppData\\Local\\Programs\\Python\\Python311\\Lib\\site-packages\\pandas\\io\\excel\\_base.py:495\u001b[0m, in \u001b[0;36mread_excel\u001b[1;34m(io, sheet_name, header, names, index_col, usecols, dtype, engine, converters, true_values, false_values, skiprows, nrows, na_values, keep_default_na, na_filter, verbose, parse_dates, date_parser, date_format, thousands, decimal, comment, skipfooter, storage_options, dtype_backend, engine_kwargs)\u001b[0m\n\u001b[0;32m    493\u001b[0m \u001b[38;5;28;01mif\u001b[39;00m \u001b[38;5;129;01mnot\u001b[39;00m \u001b[38;5;28misinstance\u001b[39m(io, ExcelFile):\n\u001b[0;32m    494\u001b[0m     should_close \u001b[38;5;241m=\u001b[39m \u001b[38;5;28;01mTrue\u001b[39;00m\n\u001b[1;32m--> 495\u001b[0m     io \u001b[38;5;241m=\u001b[39m \u001b[43mExcelFile\u001b[49m\u001b[43m(\u001b[49m\n\u001b[0;32m    496\u001b[0m \u001b[43m        \u001b[49m\u001b[43mio\u001b[49m\u001b[43m,\u001b[49m\n\u001b[0;32m    497\u001b[0m \u001b[43m        \u001b[49m\u001b[43mstorage_options\u001b[49m\u001b[38;5;241;43m=\u001b[39;49m\u001b[43mstorage_options\u001b[49m\u001b[43m,\u001b[49m\n\u001b[0;32m    498\u001b[0m \u001b[43m        \u001b[49m\u001b[43mengine\u001b[49m\u001b[38;5;241;43m=\u001b[39;49m\u001b[43mengine\u001b[49m\u001b[43m,\u001b[49m\n\u001b[0;32m    499\u001b[0m \u001b[43m        \u001b[49m\u001b[43mengine_kwargs\u001b[49m\u001b[38;5;241;43m=\u001b[39;49m\u001b[43mengine_kwargs\u001b[49m\u001b[43m,\u001b[49m\n\u001b[0;32m    500\u001b[0m \u001b[43m    \u001b[49m\u001b[43m)\u001b[49m\n\u001b[0;32m    501\u001b[0m \u001b[38;5;28;01melif\u001b[39;00m engine \u001b[38;5;129;01mand\u001b[39;00m engine \u001b[38;5;241m!=\u001b[39m io\u001b[38;5;241m.\u001b[39mengine:\n\u001b[0;32m    502\u001b[0m     \u001b[38;5;28;01mraise\u001b[39;00m \u001b[38;5;167;01mValueError\u001b[39;00m(\n\u001b[0;32m    503\u001b[0m         \u001b[38;5;124m\"\u001b[39m\u001b[38;5;124mEngine should not be specified when passing \u001b[39m\u001b[38;5;124m\"\u001b[39m\n\u001b[0;32m    504\u001b[0m         \u001b[38;5;124m\"\u001b[39m\u001b[38;5;124man ExcelFile - ExcelFile already has the engine set\u001b[39m\u001b[38;5;124m\"\u001b[39m\n\u001b[0;32m    505\u001b[0m     )\n",
      "File \u001b[1;32mc:\\Users\\dilmu\\AppData\\Local\\Programs\\Python\\Python311\\Lib\\site-packages\\pandas\\io\\excel\\_base.py:1550\u001b[0m, in \u001b[0;36mExcelFile.__init__\u001b[1;34m(self, path_or_buffer, engine, storage_options, engine_kwargs)\u001b[0m\n\u001b[0;32m   1548\u001b[0m     ext \u001b[38;5;241m=\u001b[39m \u001b[38;5;124m\"\u001b[39m\u001b[38;5;124mxls\u001b[39m\u001b[38;5;124m\"\u001b[39m\n\u001b[0;32m   1549\u001b[0m \u001b[38;5;28;01melse\u001b[39;00m:\n\u001b[1;32m-> 1550\u001b[0m     ext \u001b[38;5;241m=\u001b[39m \u001b[43minspect_excel_format\u001b[49m\u001b[43m(\u001b[49m\n\u001b[0;32m   1551\u001b[0m \u001b[43m        \u001b[49m\u001b[43mcontent_or_path\u001b[49m\u001b[38;5;241;43m=\u001b[39;49m\u001b[43mpath_or_buffer\u001b[49m\u001b[43m,\u001b[49m\u001b[43m \u001b[49m\u001b[43mstorage_options\u001b[49m\u001b[38;5;241;43m=\u001b[39;49m\u001b[43mstorage_options\u001b[49m\n\u001b[0;32m   1552\u001b[0m \u001b[43m    \u001b[49m\u001b[43m)\u001b[49m\n\u001b[0;32m   1553\u001b[0m     \u001b[38;5;28;01mif\u001b[39;00m ext \u001b[38;5;129;01mis\u001b[39;00m \u001b[38;5;28;01mNone\u001b[39;00m:\n\u001b[0;32m   1554\u001b[0m         \u001b[38;5;28;01mraise\u001b[39;00m \u001b[38;5;167;01mValueError\u001b[39;00m(\n\u001b[0;32m   1555\u001b[0m             \u001b[38;5;124m\"\u001b[39m\u001b[38;5;124mExcel file format cannot be determined, you must specify \u001b[39m\u001b[38;5;124m\"\u001b[39m\n\u001b[0;32m   1556\u001b[0m             \u001b[38;5;124m\"\u001b[39m\u001b[38;5;124man engine manually.\u001b[39m\u001b[38;5;124m\"\u001b[39m\n\u001b[0;32m   1557\u001b[0m         )\n",
      "File \u001b[1;32mc:\\Users\\dilmu\\AppData\\Local\\Programs\\Python\\Python311\\Lib\\site-packages\\pandas\\io\\excel\\_base.py:1402\u001b[0m, in \u001b[0;36minspect_excel_format\u001b[1;34m(content_or_path, storage_options)\u001b[0m\n\u001b[0;32m   1399\u001b[0m \u001b[38;5;28;01mif\u001b[39;00m \u001b[38;5;28misinstance\u001b[39m(content_or_path, \u001b[38;5;28mbytes\u001b[39m):\n\u001b[0;32m   1400\u001b[0m     content_or_path \u001b[38;5;241m=\u001b[39m BytesIO(content_or_path)\n\u001b[1;32m-> 1402\u001b[0m \u001b[38;5;28;01mwith\u001b[39;00m \u001b[43mget_handle\u001b[49m\u001b[43m(\u001b[49m\n\u001b[0;32m   1403\u001b[0m \u001b[43m    \u001b[49m\u001b[43mcontent_or_path\u001b[49m\u001b[43m,\u001b[49m\u001b[43m \u001b[49m\u001b[38;5;124;43m\"\u001b[39;49m\u001b[38;5;124;43mrb\u001b[39;49m\u001b[38;5;124;43m\"\u001b[39;49m\u001b[43m,\u001b[49m\u001b[43m \u001b[49m\u001b[43mstorage_options\u001b[49m\u001b[38;5;241;43m=\u001b[39;49m\u001b[43mstorage_options\u001b[49m\u001b[43m,\u001b[49m\u001b[43m \u001b[49m\u001b[43mis_text\u001b[49m\u001b[38;5;241;43m=\u001b[39;49m\u001b[38;5;28;43;01mFalse\u001b[39;49;00m\n\u001b[0;32m   1404\u001b[0m \u001b[43m\u001b[49m\u001b[43m)\u001b[49m \u001b[38;5;28;01mas\u001b[39;00m handle:\n\u001b[0;32m   1405\u001b[0m     stream \u001b[38;5;241m=\u001b[39m handle\u001b[38;5;241m.\u001b[39mhandle\n\u001b[0;32m   1406\u001b[0m     stream\u001b[38;5;241m.\u001b[39mseek(\u001b[38;5;241m0\u001b[39m)\n",
      "File \u001b[1;32mc:\\Users\\dilmu\\AppData\\Local\\Programs\\Python\\Python311\\Lib\\site-packages\\pandas\\io\\common.py:882\u001b[0m, in \u001b[0;36mget_handle\u001b[1;34m(path_or_buf, mode, encoding, compression, memory_map, is_text, errors, storage_options)\u001b[0m\n\u001b[0;32m    873\u001b[0m         handle \u001b[38;5;241m=\u001b[39m \u001b[38;5;28mopen\u001b[39m(\n\u001b[0;32m    874\u001b[0m             handle,\n\u001b[0;32m    875\u001b[0m             ioargs\u001b[38;5;241m.\u001b[39mmode,\n\u001b[1;32m   (...)\u001b[0m\n\u001b[0;32m    878\u001b[0m             newline\u001b[38;5;241m=\u001b[39m\u001b[38;5;124m\"\u001b[39m\u001b[38;5;124m\"\u001b[39m,\n\u001b[0;32m    879\u001b[0m         )\n\u001b[0;32m    880\u001b[0m     \u001b[38;5;28;01melse\u001b[39;00m:\n\u001b[0;32m    881\u001b[0m         \u001b[38;5;66;03m# Binary mode\u001b[39;00m\n\u001b[1;32m--> 882\u001b[0m         handle \u001b[38;5;241m=\u001b[39m \u001b[38;5;28mopen\u001b[39m(handle, ioargs\u001b[38;5;241m.\u001b[39mmode)\n\u001b[0;32m    883\u001b[0m     handles\u001b[38;5;241m.\u001b[39mappend(handle)\n\u001b[0;32m    885\u001b[0m \u001b[38;5;66;03m# Convert BytesIO or file objects passed with an encoding\u001b[39;00m\n",
      "\u001b[1;31mFileNotFoundError\u001b[0m: [Errno 2] No such file or directory: '..\\\\Data\\\\Cleaned_Combined.xlsx'"
     ]
    }
   ],
   "source": [
    "excel_file_path = \"..\\\\Data\\\\Cleaned_Combined.xlsx\"\n",
    "existing_data = pd.read_excel(excel_file_path)\n",
    "combined_data = pd.concat([existing_data, df_scaled])\n",
    "combined_data.drop_duplicates(keep='first', inplace=True)\n",
    "combined_data.to_excel(excel_file_path, index=False)"
   ]
  }
 ],
 "metadata": {
  "kernelspec": {
   "display_name": "Python 3",
   "language": "python",
   "name": "python3"
  },
  "language_info": {
   "codemirror_mode": {
    "name": "ipython",
    "version": 3
   },
   "file_extension": ".py",
   "mimetype": "text/x-python",
   "name": "python",
   "nbconvert_exporter": "python",
   "pygments_lexer": "ipython3",
   "version": "3.11.8"
  }
 },
 "nbformat": 4,
 "nbformat_minor": 2
}
