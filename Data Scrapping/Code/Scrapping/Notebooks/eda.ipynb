{
 "cells": [
  {
   "cell_type": "code",
   "execution_count": 11,
   "metadata": {},
   "outputs": [],
   "source": [
    "import pandas as pd\n",
    "import geopandas as gpd\n",
    "from shapely.geometry import Point\n",
    "import numpy as np"
   ]
  },
  {
   "cell_type": "code",
   "execution_count": 12,
   "metadata": {},
   "outputs": [
    {
     "data": {
      "text/plain": [
       "(196373, 18)"
      ]
     },
     "execution_count": 12,
     "metadata": {},
     "output_type": "execute_result"
    }
   ],
   "source": [
    "data = pd.read_excel(\"../../../Data/Combined.xlsx\")\n",
    "\n",
    "df = pd.DataFrame(data)\n",
    "df = df[df['Цена'] != 0]\n",
    "df.shape\n"
   ]
  },
  {
   "cell_type": "code",
   "execution_count": 13,
   "metadata": {},
   "outputs": [],
   "source": [
    "column_translation = {\n",
    "    'Источник': 'source',\n",
    "    'Название': 'title',\n",
    "    'Тип': 'type',\n",
    "    'Санузел': 'bathroom',\n",
    "    'Тип постройки': 'building_type',\n",
    "    'Материал': 'material',\n",
    "    'Широта': 'lat',\n",
    "    'Долгота': 'long',\n",
    "    'Район': 'district',\n",
    "    'Этаж': 'floor',\n",
    "    'Этажность': 'num_of_floors',\n",
    "    'Ремонт': 'renovation',\n",
    "    'Площадь': 'area',\n",
    "    'Количество комнат': 'num_of_rooms',\n",
    "    'Дата публикации': 'publication_date',\n",
    "    'Валюта': 'currency',\n",
    "    'Цена': 'price',\n",
    "    'Дата создания': 'created_date'\n",
    "}\n",
    "\n",
    "df = df.rename(columns=column_translation)\n",
    "\n",
    "df = df[['source', 'type', 'building_type',\n",
    "       'lat', 'long', 'district', 'floor', 'num_of_floors', 'renovation',\n",
    "       'area', 'num_of_rooms', 'publication_date', 'currency', 'price']]\n"
   ]
  },
  {
   "cell_type": "code",
   "execution_count": 14,
   "metadata": {},
   "outputs": [
    {
     "name": "stdout",
     "output_type": "stream",
     "text": [
      "Number of duplicates removed: 183697\n"
     ]
    }
   ],
   "source": [
    "init_len = len(df)\n",
    "\n",
    "subset_columns = ['type', 'building_type', 'district', 'floor', 'num_of_floors', 'renovation',\n",
    "         'area', 'num_of_rooms']\n",
    "\n",
    "df = df.drop_duplicates(subset=subset_columns)\n",
    "\n",
    "after_len = len(df)\n",
    "print(\"Number of duplicates removed:\", init_len - after_len)\n"
   ]
  },
  {
   "cell_type": "code",
   "execution_count": 15,
   "metadata": {},
   "outputs": [],
   "source": [
    "usd_mask = df['currency'] == \"USD\"\n",
    "df.loc[usd_mask, 'price'] *= 12500\n",
    "df.loc[usd_mask, 'currency'] = \"UZS\"\n"
   ]
  },
  {
   "cell_type": "code",
   "execution_count": 16,
   "metadata": {},
   "outputs": [],
   "source": [
    "df['publication_date'] = pd.to_datetime(df['publication_date'], format='%d.%m.%Y')\n",
    "df['year'] = df['publication_date'].dt.year\n",
    "df['year'] = df['year'].fillna(np.nan).astype(float).astype('Int64')\n"
   ]
  },
  {
   "cell_type": "code",
   "execution_count": 17,
   "metadata": {},
   "outputs": [],
   "source": [
    "df = df[['source', 'type', 'building_type',\n",
    "       'lat', 'long', 'district', 'floor', 'num_of_floors', 'renovation',\n",
    "       'area', 'num_of_rooms', 'currency', 'price', 'year']]"
   ]
  },
  {
   "cell_type": "code",
   "execution_count": 18,
   "metadata": {},
   "outputs": [
    {
     "name": "stderr",
     "output_type": "stream",
     "text": [
      "/Users/didi/anaconda3/lib/python3.11/site-packages/IPython/core/interactiveshell.py:3445: FutureWarning: The `op` parameter is deprecated and will be removed in a future release. Please use the `predicate` parameter instead.\n",
      "  if await self.run_code(code, result, async_=asy):\n",
      "/var/folders/2x/fbjdj5750dx2fptgf9h3f7xh0000gn/T/ipykernel_53334/1875819512.py:4: UserWarning: CRS mismatch between the CRS of left geometries and the CRS of right geometries.\n",
      "Use `to_crs()` to reproject one of the input geometries to match the CRS of the other.\n",
      "\n",
      "Left CRS: None\n",
      "Right CRS: EPSG:4326\n",
      "\n",
      "  joined = gpd.sjoin(gdf, district_borders, how=\"left\", op='within')\n"
     ]
    }
   ],
   "source": [
    "district_borders = gpd.read_file('/Users/didi/Desktop/data_scrapping/Data Scrapping/Data/district_borders.json')\n",
    "df['geometry'] = df.apply(lambda row: Point(row['long'], row['lat']), axis=1)\n",
    "gdf = gpd.GeoDataFrame(df, geometry='geometry')\n",
    "joined = gpd.sjoin(gdf, district_borders, how=\"left\", op='within')\n",
    "df['district'] = df['district'].fillna(joined['NOMI'])\n",
    "df.drop(columns=['geometry'], inplace=True)\n"
   ]
  },
  {
   "cell_type": "code",
   "execution_count": 19,
   "metadata": {},
   "outputs": [],
   "source": [
    "df['type'] = df['type'].str.lower()\n",
    "\n",
    "corrections = {\n",
    "    'квартира': 'квартира',\n",
    "    'квартира': 'квартира',\n",
    "    'частный дом': 'частный',\n",
    "    'земля': 'частный',\n",
    "    'участок': 'частный',\n",
    "    'евро дом': 'частный',\n",
    "    'дом': 'частный',\n",
    "    'частный дом на продажу':'частный',\n",
    "    'квартира во вторичке на продажу': 'квартира',\n",
    "    'квартира в новостройке на продажу': 'квартира',\n",
    "    'дача на продажу': 'частный',\n",
    "}                                       \n",
    "\n",
    "df['type'].replace(corrections, inplace=True)\n",
    "\n",
    "allowed_categories = corrections.values()\n",
    "df = df[df['type'].isin(allowed_categories)]\n",
    "df.reset_index(drop=True, inplace=True)\n"
   ]
  },
  {
   "cell_type": "code",
   "execution_count": 20,
   "metadata": {},
   "outputs": [],
   "source": [
    "df['building_type'] = df['building_type'].str.lower()\n",
    "\n",
    "corrections = {\n",
    "    'Новострой': 'первичный',\n",
    "    'Вторичный': 'вторичный',\n",
    "    'Вторичка': 'вторичный',\n",
    "    'Вторичный рынок': 'вторичный',\n",
    "    'Новостройки': 'первичный',\n",
    "    'Первичный': 'первичный',\n",
    "    'вторичный': 'вторичный',\n",
    "    'Новостройка': 'первичный',\n",
    "    'первичный': 'первичный',\n",
    "    'первычный': 'первичный',\n",
    "    'Вторичний':  'вторичный',\n",
    "    'торичный': 'вторичный',\n",
    "    'Вторичные': 'вторичный',\n",
    "    'Вторичный': 'вторичный',\n",
    "    'вторичный рынок': 'вторичный',\n",
    "    'новостройка': 'первичный',\n",
    "    'новостройки': 'первичный',\n",
    "    'новострой': 'первичный',\n",
    "    'вторичка': 'вторичный',\n",
    "}\n",
    "\n",
    "df['building_type'].replace(corrections, inplace=True)\n",
    "allowed_categories = corrections.values()\n",
    "df = df[df['building_type'].isin(allowed_categories)]\n",
    "df.reset_index(drop=True, inplace=True)\n"
   ]
  },
  {
   "cell_type": "code",
   "execution_count": 21,
   "metadata": {},
   "outputs": [],
   "source": [
    "df['renovation'] = df['renovation'].str.lower()\n",
    "\n",
    "corrections = {\n",
    "    'евро ремонт': 'евроремонт',\n",
    "    'квро ремонт': 'евроремонт',\n",
    "    'евро ремонт': 'евроремонт',\n",
    "    'с ремонтом': 'средний ремонт',\n",
    "    'требуется ремонт': 'нужен ремонт',\n",
    "    'требует ремонта': 'нужен ремонт',\n",
    "    'средняя': 'средний ремонт',\n",
    "    'среднее состояние': 'средний ремонт',\n",
    "    'требует ремонта': 'нужен ремонт',\n",
    "    'незаконченный евроремонт': 'нужен ремонт',\n",
    "    'требует ремонта':  'нужен ремонт',\n",
    "    'дизайнерский': 'евроремонт',\n",
    "    'не требуется': 'средний ремонт',\n",
    "    'косметический': 'евроремонт',\n",
    "    'черновая отделка': 'нужен ремонт',\n",
    "    'коробка': 'нужен ремонт',\n",
    "    'без ремонта': 'нужен ремонт',\n",
    "    'капитальный ремонт': 'евроремонт',\n",
    "}\n",
    "\n",
    "df['renovation'].replace(corrections, inplace=True)\n",
    "allowed_categories = corrections.values()\n",
    "df = df[df['renovation'].isin(allowed_categories)]\n",
    "df.reset_index(drop=True, inplace=True)\n"
   ]
  },
  {
   "cell_type": "code",
   "execution_count": 22,
   "metadata": {},
   "outputs": [
    {
     "data": {
      "text/plain": [
       "district\n",
       "Almazar              221\n",
       "Bektemir              18\n",
       "Chilanzar            430\n",
       "Mirabad              368\n",
       "Mirzo-Ulugbek        575\n",
       "Sergerli             167\n",
       "Shaikhantaur         395\n",
       "Uchtepa              257\n",
       "Yakkasaray           382\n",
       "Yangihayat            59\n",
       "Yashnabad            522\n",
       "Yunusabad            591\n",
       "Алмазарский район      1\n",
       "dtype: int64"
      ]
     },
     "execution_count": 22,
     "metadata": {},
     "output_type": "execute_result"
    }
   ],
   "source": [
    "# Group by 'district' column and count the number of rows in each group\n",
    "district_counts = df.groupby('district').size()\n",
    "\n",
    "# Display the count of rows in each district\n",
    "district_counts\n"
   ]
  },
  {
   "cell_type": "code",
   "execution_count": 23,
   "metadata": {},
   "outputs": [
    {
     "ename": "FileNotFoundError",
     "evalue": "[Errno 2] No such file or directory: 'Data Scrapping/Data/Map_Data.xlsx'",
     "output_type": "error",
     "traceback": [
      "\u001b[0;31m---------------------------------------------------------------------------\u001b[0m",
      "\u001b[0;31mFileNotFoundError\u001b[0m                         Traceback (most recent call last)",
      "\u001b[1;32m/Users/didi/Desktop/data_scrapping/Data Scrapping/Code/Scrapping/Notebooks/eda.ipynb Cell 13\u001b[0m line \u001b[0;36m1\n\u001b[0;32m----> <a href='vscode-notebook-cell:/Users/didi/Desktop/data_scrapping/Data%20Scrapping/Code/Scrapping/Notebooks/eda.ipynb#X15sZmlsZQ%3D%3D?line=0'>1</a>\u001b[0m df_map \u001b[39m=\u001b[39m pd\u001b[39m.\u001b[39mread_excel(\u001b[39m'\u001b[39m\u001b[39mData Scrapping/Data/Map_Data.xlsx\u001b[39m\u001b[39m'\u001b[39m)\n\u001b[1;32m      <a href='vscode-notebook-cell:/Users/didi/Desktop/data_scrapping/Data%20Scrapping/Code/Scrapping/Notebooks/eda.ipynb#X15sZmlsZQ%3D%3D?line=1'>2</a>\u001b[0m categories_to_keep \u001b[39m=\u001b[39m [\u001b[39m'\u001b[39m\u001b[39mШкола\u001b[39m\u001b[39m'\u001b[39m, \u001b[39m'\u001b[39m\u001b[39mСупермаркет\u001b[39m\u001b[39m'\u001b[39m, \u001b[39m'\u001b[39m\u001b[39mМагазин\u001b[39m\u001b[39m'\u001b[39m, \u001b[39m'\u001b[39m\u001b[39mЧастная школа\u001b[39m\u001b[39m'\u001b[39m, \u001b[39m'\u001b[39m\u001b[39mСредняя школа\u001b[39m\u001b[39m'\u001b[39m, \u001b[39m'\u001b[39m\u001b[39mНачальная школа\u001b[39m\u001b[39m'\u001b[39m,\n\u001b[1;32m      <a href='vscode-notebook-cell:/Users/didi/Desktop/data_scrapping/Data%20Scrapping/Code/Scrapping/Notebooks/eda.ipynb#X15sZmlsZQ%3D%3D?line=2'>3</a>\u001b[0m                       \u001b[39m'\u001b[39m\u001b[39mМеждународная школа\u001b[39m\u001b[39m'\u001b[39m, \u001b[39m'\u001b[39m\u001b[39mТорговый центр\u001b[39m\u001b[39m'\u001b[39m, \u001b[39m'\u001b[39m\u001b[39mПродовольственный магазин\u001b[39m\u001b[39m'\u001b[39m,\n\u001b[1;32m      <a href='vscode-notebook-cell:/Users/didi/Desktop/data_scrapping/Data%20Scrapping/Code/Scrapping/Notebooks/eda.ipynb#X15sZmlsZQ%3D%3D?line=3'>4</a>\u001b[0m                       \u001b[39m'\u001b[39m\u001b[39mМагазин шаговой доступности\u001b[39m\u001b[39m'\u001b[39m, \u001b[39m'\u001b[39m\u001b[39mСупермаркет низких цен\u001b[39m\u001b[39m'\u001b[39m, \u001b[39m'\u001b[39m\u001b[39mРесторан\u001b[39m\u001b[39m'\u001b[39m, \u001b[39m'\u001b[39m\u001b[39mфастфуд\u001b[39m\u001b[39m'\u001b[39m,\n\u001b[1;32m      <a href='vscode-notebook-cell:/Users/didi/Desktop/data_scrapping/Data%20Scrapping/Code/Scrapping/Notebooks/eda.ipynb#X15sZmlsZQ%3D%3D?line=4'>5</a>\u001b[0m                       \u001b[39m'\u001b[39m\u001b[39mУзбекская кухня\u001b[39m\u001b[39m'\u001b[39m,\u001b[39m'\u001b[39m\u001b[39mКафе\u001b[39m\u001b[39m'\u001b[39m,\u001b[39m'\u001b[39m\u001b[39mСуши\u001b[39m\u001b[39m'\u001b[39m,\u001b[39m'\u001b[39m\u001b[39mТурецкая кухня\u001b[39m\u001b[39m'\u001b[39m,\u001b[39m'\u001b[39m\u001b[39mГамбургеры\u001b[39m\u001b[39m'\u001b[39m,\u001b[39m'\u001b[39m\u001b[39mКорейская кухня\u001b[39m\u001b[39m'\u001b[39m,\u001b[39m'\u001b[39m\u001b[39mЯпонская кухня\u001b[39m\u001b[39m'\u001b[39m,\u001b[39m'\u001b[39m\u001b[39mЕда на вынос\u001b[39m\u001b[39m'\u001b[39m,\u001b[39m'\u001b[39m\u001b[39mДоставка готовой еды\u001b[39m\u001b[39m'\u001b[39m,\u001b[39m'\u001b[39m\u001b[39mПарк\u001b[39m\u001b[39m'\u001b[39m]\n\u001b[1;32m      <a href='vscode-notebook-cell:/Users/didi/Desktop/data_scrapping/Data%20Scrapping/Code/Scrapping/Notebooks/eda.ipynb#X15sZmlsZQ%3D%3D?line=6'>7</a>\u001b[0m df_map \u001b[39m=\u001b[39m df_map[df_map[\u001b[39m'\u001b[39m\u001b[39mcategory\u001b[39m\u001b[39m'\u001b[39m]\u001b[39m.\u001b[39misin(categories_to_keep)]\n",
      "File \u001b[0;32m~/anaconda3/lib/python3.11/site-packages/pandas/io/excel/_base.py:504\u001b[0m, in \u001b[0;36mread_excel\u001b[0;34m(io, sheet_name, header, names, index_col, usecols, dtype, engine, converters, true_values, false_values, skiprows, nrows, na_values, keep_default_na, na_filter, verbose, parse_dates, date_parser, date_format, thousands, decimal, comment, skipfooter, storage_options, dtype_backend, engine_kwargs)\u001b[0m\n\u001b[1;32m    502\u001b[0m \u001b[39mif\u001b[39;00m \u001b[39mnot\u001b[39;00m \u001b[39misinstance\u001b[39m(io, ExcelFile):\n\u001b[1;32m    503\u001b[0m     should_close \u001b[39m=\u001b[39m \u001b[39mTrue\u001b[39;00m\n\u001b[0;32m--> 504\u001b[0m     io \u001b[39m=\u001b[39m ExcelFile(\n\u001b[1;32m    505\u001b[0m         io,\n\u001b[1;32m    506\u001b[0m         storage_options\u001b[39m=\u001b[39mstorage_options,\n\u001b[1;32m    507\u001b[0m         engine\u001b[39m=\u001b[39mengine,\n\u001b[1;32m    508\u001b[0m         engine_kwargs\u001b[39m=\u001b[39mengine_kwargs,\n\u001b[1;32m    509\u001b[0m     )\n\u001b[1;32m    510\u001b[0m \u001b[39melif\u001b[39;00m engine \u001b[39mand\u001b[39;00m engine \u001b[39m!=\u001b[39m io\u001b[39m.\u001b[39mengine:\n\u001b[1;32m    511\u001b[0m     \u001b[39mraise\u001b[39;00m \u001b[39mValueError\u001b[39;00m(\n\u001b[1;32m    512\u001b[0m         \u001b[39m\"\u001b[39m\u001b[39mEngine should not be specified when passing \u001b[39m\u001b[39m\"\u001b[39m\n\u001b[1;32m    513\u001b[0m         \u001b[39m\"\u001b[39m\u001b[39man ExcelFile - ExcelFile already has the engine set\u001b[39m\u001b[39m\"\u001b[39m\n\u001b[1;32m    514\u001b[0m     )\n",
      "File \u001b[0;32m~/anaconda3/lib/python3.11/site-packages/pandas/io/excel/_base.py:1563\u001b[0m, in \u001b[0;36mExcelFile.__init__\u001b[0;34m(self, path_or_buffer, engine, storage_options, engine_kwargs)\u001b[0m\n\u001b[1;32m   1561\u001b[0m     ext \u001b[39m=\u001b[39m \u001b[39m\"\u001b[39m\u001b[39mxls\u001b[39m\u001b[39m\"\u001b[39m\n\u001b[1;32m   1562\u001b[0m \u001b[39melse\u001b[39;00m:\n\u001b[0;32m-> 1563\u001b[0m     ext \u001b[39m=\u001b[39m inspect_excel_format(\n\u001b[1;32m   1564\u001b[0m         content_or_path\u001b[39m=\u001b[39mpath_or_buffer, storage_options\u001b[39m=\u001b[39mstorage_options\n\u001b[1;32m   1565\u001b[0m     )\n\u001b[1;32m   1566\u001b[0m     \u001b[39mif\u001b[39;00m ext \u001b[39mis\u001b[39;00m \u001b[39mNone\u001b[39;00m:\n\u001b[1;32m   1567\u001b[0m         \u001b[39mraise\u001b[39;00m \u001b[39mValueError\u001b[39;00m(\n\u001b[1;32m   1568\u001b[0m             \u001b[39m\"\u001b[39m\u001b[39mExcel file format cannot be determined, you must specify \u001b[39m\u001b[39m\"\u001b[39m\n\u001b[1;32m   1569\u001b[0m             \u001b[39m\"\u001b[39m\u001b[39man engine manually.\u001b[39m\u001b[39m\"\u001b[39m\n\u001b[1;32m   1570\u001b[0m         )\n",
      "File \u001b[0;32m~/anaconda3/lib/python3.11/site-packages/pandas/io/excel/_base.py:1419\u001b[0m, in \u001b[0;36minspect_excel_format\u001b[0;34m(content_or_path, storage_options)\u001b[0m\n\u001b[1;32m   1416\u001b[0m \u001b[39mif\u001b[39;00m \u001b[39misinstance\u001b[39m(content_or_path, \u001b[39mbytes\u001b[39m):\n\u001b[1;32m   1417\u001b[0m     content_or_path \u001b[39m=\u001b[39m BytesIO(content_or_path)\n\u001b[0;32m-> 1419\u001b[0m \u001b[39mwith\u001b[39;00m get_handle(\n\u001b[1;32m   1420\u001b[0m     content_or_path, \u001b[39m\"\u001b[39m\u001b[39mrb\u001b[39m\u001b[39m\"\u001b[39m, storage_options\u001b[39m=\u001b[39mstorage_options, is_text\u001b[39m=\u001b[39m\u001b[39mFalse\u001b[39;00m\n\u001b[1;32m   1421\u001b[0m ) \u001b[39mas\u001b[39;00m handle:\n\u001b[1;32m   1422\u001b[0m     stream \u001b[39m=\u001b[39m handle\u001b[39m.\u001b[39mhandle\n\u001b[1;32m   1423\u001b[0m     stream\u001b[39m.\u001b[39mseek(\u001b[39m0\u001b[39m)\n",
      "File \u001b[0;32m~/anaconda3/lib/python3.11/site-packages/pandas/io/common.py:872\u001b[0m, in \u001b[0;36mget_handle\u001b[0;34m(path_or_buf, mode, encoding, compression, memory_map, is_text, errors, storage_options)\u001b[0m\n\u001b[1;32m    863\u001b[0m         handle \u001b[39m=\u001b[39m \u001b[39mopen\u001b[39m(\n\u001b[1;32m    864\u001b[0m             handle,\n\u001b[1;32m    865\u001b[0m             ioargs\u001b[39m.\u001b[39mmode,\n\u001b[0;32m   (...)\u001b[0m\n\u001b[1;32m    868\u001b[0m             newline\u001b[39m=\u001b[39m\u001b[39m\"\u001b[39m\u001b[39m\"\u001b[39m,\n\u001b[1;32m    869\u001b[0m         )\n\u001b[1;32m    870\u001b[0m     \u001b[39melse\u001b[39;00m:\n\u001b[1;32m    871\u001b[0m         \u001b[39m# Binary mode\u001b[39;00m\n\u001b[0;32m--> 872\u001b[0m         handle \u001b[39m=\u001b[39m \u001b[39mopen\u001b[39m(handle, ioargs\u001b[39m.\u001b[39mmode)\n\u001b[1;32m    873\u001b[0m     handles\u001b[39m.\u001b[39mappend(handle)\n\u001b[1;32m    875\u001b[0m \u001b[39m# Convert BytesIO or file objects passed with an encoding\u001b[39;00m\n",
      "\u001b[0;31mFileNotFoundError\u001b[0m: [Errno 2] No such file or directory: 'Data Scrapping/Data/Map_Data.xlsx'"
     ]
    }
   ],
   "source": [
    "df_map = pd.read_excel('Data Scrapping/Data/Map_Data.xlsx')\n",
    "categories_to_keep = ['Школа', 'Супермаркет', 'Магазин', 'Частная школа', 'Средняя школа', 'Начальная школа',\n",
    "                      'Международная школа', 'Торговый центр', 'Продовольственный магазин',\n",
    "                      'Магазин шаговой доступности', 'Супермаркет низких цен', 'Ресторан', 'фастфуд',\n",
    "                      'Узбекская кухня','Кафе','Суши','Турецкая кухня','Гамбургеры','Корейская кухня','Японская кухня','Еда на вынос','Доставка готовой еды','Парк']\n",
    "\n",
    "df_map = df_map[df_map['category'].isin(categories_to_keep)]\n",
    "\n",
    "corrections = {\n",
    "    'Магазин': 'grocery',\n",
    "    'Супермаркет': 'grocery',\n",
    "    'Продовольственный магазин': 'grocery',\n",
    "    'Магазин шаговой доступности': 'grocery',\n",
    "    'Супермаркет низких цен': 'grocery',\n",
    "    'Рынок': 'grocery',\n",
    "    'Начальная школа': 'school',\n",
    "    'Частная школа': 'school',\n",
    "    'Средняя школа': 'school',\n",
    "    'Школа': 'school',\n",
    "    'Международная школа': 'school',\n",
    "    'Торговый центр': 'mall',\n",
    "    'Парк': 'park',\n",
    "    'Ресторан':'food', \n",
    "    'фастфуд':'food',\n",
    "    'Узбекская кухня':'food',\n",
    "    'Кафе':'food',\n",
    "    'Суши':'food',\n",
    "    'Турецкая кухня':'food',\n",
    "    'Гамбургеры':'food',\n",
    "    'Корейская кухня':'food',\n",
    "    'Японская кухня':'food',\n",
    "    'Еда на вынос':'food',\n",
    "    'Доставка готовой еды':'food',\n",
    "    'Парк': 'park'\n",
    "}\n",
    "\n",
    "df_map['category'].replace(corrections, inplace=True)\n",
    "\n",
    "df_map.dropna(subset=['category', 'lat', 'long'], inplace=True)\n",
    "\n",
    "df_map.drop_duplicates(subset=['category', 'lat', 'long'], inplace=True)\n"
   ]
  },
  {
   "cell_type": "code",
   "execution_count": null,
   "metadata": {},
   "outputs": [],
   "source": [
    "for column in df.columns:\n",
    "    mode_value = df[column].mode()[0]\n",
    "    df[column] = df[column].fillna(mode_value)\n"
   ]
  },
  {
   "cell_type": "code",
   "execution_count": null,
   "metadata": {},
   "outputs": [],
   "source": [
    "def remove_outliers(df, column, threshold):\n",
    "    # Convert column to numeric type if necessary\n",
    "    df[column] = pd.to_numeric(df[column], errors='coerce')\n",
    "    \n",
    "    # Calculate mean and standard deviation\n",
    "    mean_val = df[column].mean()\n",
    "    std_val = df[column].std()\n",
    "    \n",
    "    # Calculate lower and upper bounds for outliers\n",
    "    lower_bound = mean_val - threshold * std_val\n",
    "    upper_bound = mean_val + threshold * std_val\n",
    "    \n",
    "    # Remove outliers\n",
    "    df = df[(df[column] >= lower_bound) & (df[column] <= upper_bound)]\n",
    "    \n",
    "    return df\n",
    "\n",
    "\n",
    "df = remove_outliers(df, 'price', 3)\n",
    "df = remove_outliers(df, 'num_of_rooms', 3)\n",
    "df = remove_outliers(df, 'area', 3)\n",
    "df.reset_index(drop=True, inplace=True)\n"
   ]
  },
  {
   "cell_type": "code",
   "execution_count": null,
   "metadata": {},
   "outputs": [],
   "source": [
    "df = df[['renovation',\t'district', 'area',\t'num_of_rooms', 'type', 'building_type', 'price']]\n"
   ]
  },
  {
   "cell_type": "code",
   "execution_count": null,
   "metadata": {},
   "outputs": [],
   "source": [
    "def encode_and_drop(df, column_name):\n",
    "    one_hot_encoded = pd.get_dummies(df[column_name], prefix=column_name)\n",
    "    one_hot_encoded = one_hot_encoded.astype(int)\n",
    "    \n",
    "    df = pd.concat([df, one_hot_encoded], axis=1)\n",
    "    \n",
    "    df.drop(column_name, axis=1, inplace=True)\n",
    "    \n",
    "    return df\n",
    "\n",
    "columns_to_process = ['district', 'renovation', 'type', 'building_type']\n",
    "for column in columns_to_process:\n",
    "    df = encode_and_drop(df, column)\n",
    "\n"
   ]
  },
  {
   "cell_type": "code",
   "execution_count": null,
   "metadata": {},
   "outputs": [],
   "source": [
    "df.columns\n"
   ]
  },
  {
   "cell_type": "code",
   "execution_count": null,
   "metadata": {},
   "outputs": [],
   "source": [
    "excel_file_path = \"..\\\\Data\\\\Cleaned_Combined.xlsx\"\n",
    "existing_data = pd.read_excel(excel_file_path)\n",
    "combined_data = pd.concat([existing_data, df])\n",
    "combined_data.drop_duplicates(keep='first', inplace=True)\n",
    "combined_data.to_excel(excel_file_path, index=False)\n",
    "\n",
    "\n"
   ]
  }
 ],
 "metadata": {
  "kernelspec": {
   "display_name": "Python 3",
   "language": "python",
   "name": "python3"
  },
  "language_info": {
   "codemirror_mode": {
    "name": "ipython",
    "version": 3
   },
   "file_extension": ".py",
   "mimetype": "text/x-python",
   "name": "python",
   "nbconvert_exporter": "python",
   "pygments_lexer": "ipython3",
   "version": "3.11.4"
  }
 },
 "nbformat": 4,
 "nbformat_minor": 2
}
