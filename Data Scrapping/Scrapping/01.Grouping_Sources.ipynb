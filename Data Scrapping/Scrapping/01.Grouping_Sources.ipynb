{
 "cells": [
  {
   "cell_type": "code",
   "execution_count": 1,
   "metadata": {},
   "outputs": [
    {
     "name": "stdout",
     "output_type": "stream",
     "text": [
      "Combined\n"
     ]
    }
   ],
   "source": [
    "import os\n",
    "import pandas as pd\n",
    "\n",
    "def concatenate_excels(folder_path, output_file):\n",
    "    # Initialize an empty DataFrame to store the concatenated data\n",
    "    combined_data = pd.DataFrame()\n",
    "\n",
    "    # Traverse through each folder and its files in the given directory\n",
    "    for root, dirs, files in os.walk(folder_path):\n",
    "        for file in files:\n",
    "            # Check if the file is an Excel file\n",
    "            if file.endswith('.xlsx') or file.endswith('.xls'):\n",
    "                file_path = os.path.join(root, file)\n",
    "                \n",
    "                # Read the Excel file into a DataFrame\n",
    "                excel_data = pd.read_excel(file_path)\n",
    "\n",
    "                # Concatenate the data to the combined_data DataFrame\n",
    "                combined_data = pd.concat([combined_data, excel_data], ignore_index=True)\n",
    "\n",
    "    # Write the combined data to a new Excel file\n",
    "    combined_data.to_excel(output_file, index=False)\n",
    "    print(f\"Combined\")\n",
    "\n",
    "# Replace 'YourFolderPath' with the actual path of your Excels folder\n",
    "folder_path = '../Excels/'\n",
    "\n",
    "# Replace 'CombinedData.xlsx' with the desired output file name\n",
    "output_file = '../Data/Combined.xlsx'\n",
    "\n",
    "# Call the function with the specified folder path and output file name\n",
    "concatenate_excels(folder_path, output_file)\n"
   ]
  }
 ],
 "metadata": {
  "kernelspec": {
   "display_name": "Python 3",
   "language": "python",
   "name": "python3"
  },
  "language_info": {
   "codemirror_mode": {
    "name": "ipython",
    "version": 3
   },
   "file_extension": ".py",
   "mimetype": "text/x-python",
   "name": "python",
   "nbconvert_exporter": "python",
   "pygments_lexer": "ipython3",
   "version": "3.11.8"
  }
 },
 "nbformat": 4,
 "nbformat_minor": 2
}
