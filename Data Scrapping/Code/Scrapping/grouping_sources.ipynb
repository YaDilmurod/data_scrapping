{
 "cells": [
  {
   "cell_type": "code",
   "execution_count": 2,
   "metadata": {},
   "outputs": [],
   "source": [
    "import os\n",
    "import pandas as pd"
   ]
  },
  {
   "cell_type": "code",
   "execution_count": 3,
   "metadata": {},
   "outputs": [
    {
     "name": "stdout",
     "output_type": "stream",
     "text": [
      "Combined\n"
     ]
    }
   ],
   "source": [
    "def concatenate_excels(folder_path, output_file):\n",
    "    combined_data = pd.DataFrame()\n",
    "    for root, dirs, files in os.walk(folder_path):\n",
    "        for file in files:\n",
    "            if file.endswith('.xlsx') or file.endswith('.xls'):\n",
    "                file_path = os.path.join(root, file)\n",
    "                excel_data = pd.read_excel(file_path)\n",
    "                combined_data = pd.concat([combined_data, excel_data], ignore_index=True)\n",
    "    combined_data.to_excel(output_file, index=False)\n",
    "\n",
    "folder_path = '../Excels/'\n",
    "output_file = '../Data/Combined.xlsx'\n",
    "concatenate_excels(folder_path, output_file)"
   ]
  }
 ],
 "metadata": {
  "kernelspec": {
   "display_name": "Python 3",
   "language": "python",
   "name": "python3"
  },
  "language_info": {
   "codemirror_mode": {
    "name": "ipython",
    "version": 3
   },
   "file_extension": ".py",
   "mimetype": "text/x-python",
   "name": "python",
   "nbconvert_exporter": "python",
   "pygments_lexer": "ipython3",
   "version": "3.11.5"
  }
 },
 "nbformat": 4,
 "nbformat_minor": 2
}
